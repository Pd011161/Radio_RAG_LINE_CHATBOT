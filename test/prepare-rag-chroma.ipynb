{
 "cells": [
  {
   "cell_type": "code",
   "execution_count": 1,
   "id": "90283f5d",
   "metadata": {},
   "outputs": [
    {
     "name": "stdout",
     "output_type": "stream",
     "text": [
      "Defaulting to user installation because normal site-packages is not writeable\n",
      "Collecting chromadb\n",
      "  Downloading chromadb-1.0.15-cp39-abi3-macosx_11_0_arm64.whl.metadata (7.0 kB)\n",
      "Collecting build>=1.0.3 (from chromadb)\n",
      "  Downloading build-1.2.2.post1-py3-none-any.whl.metadata (6.5 kB)\n",
      "Requirement already satisfied: pydantic>=1.9 in /Users/Aksorn_AI/Library/Python/3.9/lib/python/site-packages (from chromadb) (2.11.7)\n",
      "Collecting pybase64>=1.4.1 (from chromadb)\n",
      "  Downloading pybase64-1.4.1-cp39-cp39-macosx_11_0_arm64.whl.metadata (8.4 kB)\n",
      "Requirement already satisfied: uvicorn>=0.18.3 in /Users/Aksorn_AI/Library/Python/3.9/lib/python/site-packages (from uvicorn[standard]>=0.18.3->chromadb) (0.35.0)\n",
      "Requirement already satisfied: numpy>=1.22.5 in /Users/Aksorn_AI/Library/Python/3.9/lib/python/site-packages (from chromadb) (2.0.2)\n",
      "Collecting posthog<6.0.0,>=2.4.0 (from chromadb)\n",
      "  Downloading posthog-5.4.0-py3-none-any.whl.metadata (5.7 kB)\n",
      "Requirement already satisfied: typing-extensions>=4.5.0 in /Users/Aksorn_AI/Library/Python/3.9/lib/python/site-packages (from chromadb) (4.14.0)\n",
      "Collecting onnxruntime>=1.14.1 (from chromadb)\n",
      "  Downloading onnxruntime-1.19.2-cp39-cp39-macosx_11_0_universal2.whl.metadata (4.5 kB)\n",
      "Collecting opentelemetry-api>=1.2.0 (from chromadb)\n",
      "  Downloading opentelemetry_api-1.35.0-py3-none-any.whl.metadata (1.5 kB)\n",
      "Collecting opentelemetry-exporter-otlp-proto-grpc>=1.2.0 (from chromadb)\n",
      "  Downloading opentelemetry_exporter_otlp_proto_grpc-1.35.0-py3-none-any.whl.metadata (2.4 kB)\n",
      "Collecting opentelemetry-sdk>=1.2.0 (from chromadb)\n",
      "  Downloading opentelemetry_sdk-1.35.0-py3-none-any.whl.metadata (1.5 kB)\n",
      "Requirement already satisfied: tokenizers>=0.13.2 in /Users/Aksorn_AI/Library/Python/3.9/lib/python/site-packages (from chromadb) (0.21.2)\n",
      "Collecting pypika>=0.48.9 (from chromadb)\n",
      "  Downloading PyPika-0.48.9.tar.gz (67 kB)\n",
      "  Installing build dependencies ... \u001b[?25ldone\n",
      "\u001b[?25h  Getting requirements to build wheel ... \u001b[?25ldone\n",
      "\u001b[?25h  Preparing metadata (pyproject.toml) ... \u001b[?25ldone\n",
      "\u001b[?25hRequirement already satisfied: tqdm>=4.65.0 in /Users/Aksorn_AI/Library/Python/3.9/lib/python/site-packages (from chromadb) (4.67.1)\n",
      "Collecting overrides>=7.3.1 (from chromadb)\n",
      "  Downloading overrides-7.7.0-py3-none-any.whl.metadata (5.8 kB)\n",
      "Requirement already satisfied: importlib-resources in /Users/Aksorn_AI/Library/Python/3.9/lib/python/site-packages (from chromadb) (6.5.2)\n",
      "Collecting grpcio>=1.58.0 (from chromadb)\n",
      "  Downloading grpcio-1.73.1-cp39-cp39-macosx_11_0_universal2.whl.metadata (3.8 kB)\n",
      "Collecting bcrypt>=4.0.1 (from chromadb)\n",
      "  Downloading bcrypt-4.3.0-cp39-abi3-macosx_10_12_universal2.whl.metadata (10 kB)\n",
      "Collecting typer>=0.9.0 (from chromadb)\n",
      "  Downloading typer-0.16.0-py3-none-any.whl.metadata (15 kB)\n",
      "Collecting kubernetes>=28.1.0 (from chromadb)\n",
      "  Downloading kubernetes-33.1.0-py2.py3-none-any.whl.metadata (1.7 kB)\n",
      "Requirement already satisfied: tenacity>=8.2.3 in /Users/Aksorn_AI/Library/Python/3.9/lib/python/site-packages (from chromadb) (9.1.2)\n",
      "Requirement already satisfied: pyyaml>=6.0.0 in /Users/Aksorn_AI/Library/Python/3.9/lib/python/site-packages (from chromadb) (6.0.2)\n",
      "Collecting mmh3>=4.0.1 (from chromadb)\n",
      "  Downloading mmh3-5.1.0-cp39-cp39-macosx_11_0_arm64.whl.metadata (16 kB)\n",
      "Requirement already satisfied: orjson>=3.9.12 in /Users/Aksorn_AI/Library/Python/3.9/lib/python/site-packages (from chromadb) (3.10.18)\n",
      "Requirement already satisfied: httpx>=0.27.0 in /Users/Aksorn_AI/Library/Python/3.9/lib/python/site-packages (from chromadb) (0.28.1)\n",
      "Collecting rich>=10.11.0 (from chromadb)\n",
      "  Downloading rich-14.0.0-py3-none-any.whl.metadata (18 kB)\n",
      "Collecting jsonschema>=4.19.0 (from chromadb)\n",
      "  Downloading jsonschema-4.24.0-py3-none-any.whl.metadata (7.8 kB)\n",
      "Requirement already satisfied: requests<3.0,>=2.7 in /Users/Aksorn_AI/Library/Python/3.9/lib/python/site-packages (from posthog<6.0.0,>=2.4.0->chromadb) (2.32.4)\n",
      "Requirement already satisfied: six>=1.5 in /Library/Developer/CommandLineTools/Library/Frameworks/Python3.framework/Versions/3.9/lib/python3.9/site-packages (from posthog<6.0.0,>=2.4.0->chromadb) (1.15.0)\n",
      "Requirement already satisfied: python-dateutil>=2.2 in /Users/Aksorn_AI/Library/Python/3.9/lib/python/site-packages (from posthog<6.0.0,>=2.4.0->chromadb) (2.9.0.post0)\n",
      "Collecting backoff>=1.10.0 (from posthog<6.0.0,>=2.4.0->chromadb)\n",
      "  Downloading backoff-2.2.1-py3-none-any.whl.metadata (14 kB)\n",
      "Requirement already satisfied: distro>=1.5.0 in /Users/Aksorn_AI/Library/Python/3.9/lib/python/site-packages (from posthog<6.0.0,>=2.4.0->chromadb) (1.9.0)\n",
      "Requirement already satisfied: charset_normalizer<4,>=2 in /Users/Aksorn_AI/Library/Python/3.9/lib/python/site-packages (from requests<3.0,>=2.7->posthog<6.0.0,>=2.4.0->chromadb) (3.4.2)\n",
      "Requirement already satisfied: idna<4,>=2.5 in /Users/Aksorn_AI/Library/Python/3.9/lib/python/site-packages (from requests<3.0,>=2.7->posthog<6.0.0,>=2.4.0->chromadb) (3.10)\n",
      "Requirement already satisfied: urllib3<3,>=1.21.1 in /Users/Aksorn_AI/Library/Python/3.9/lib/python/site-packages (from requests<3.0,>=2.7->posthog<6.0.0,>=2.4.0->chromadb) (2.5.0)\n",
      "Requirement already satisfied: certifi>=2017.4.17 in /Users/Aksorn_AI/Library/Python/3.9/lib/python/site-packages (from requests<3.0,>=2.7->posthog<6.0.0,>=2.4.0->chromadb) (2025.6.15)\n",
      "Requirement already satisfied: packaging>=19.1 in /Users/Aksorn_AI/Library/Python/3.9/lib/python/site-packages (from build>=1.0.3->chromadb) (24.2)\n",
      "Collecting pyproject_hooks (from build>=1.0.3->chromadb)\n",
      "  Downloading pyproject_hooks-1.2.0-py3-none-any.whl.metadata (1.3 kB)\n",
      "Requirement already satisfied: importlib-metadata>=4.6 in /Users/Aksorn_AI/Library/Python/3.9/lib/python/site-packages (from build>=1.0.3->chromadb) (8.7.0)\n",
      "Collecting tomli>=1.1.0 (from build>=1.0.3->chromadb)\n",
      "  Using cached tomli-2.2.1-py3-none-any.whl.metadata (10 kB)\n",
      "Requirement already satisfied: anyio in /Users/Aksorn_AI/Library/Python/3.9/lib/python/site-packages (from httpx>=0.27.0->chromadb) (4.9.0)\n",
      "Requirement already satisfied: httpcore==1.* in /Users/Aksorn_AI/Library/Python/3.9/lib/python/site-packages (from httpx>=0.27.0->chromadb) (1.0.9)\n",
      "Requirement already satisfied: h11>=0.16 in /Users/Aksorn_AI/Library/Python/3.9/lib/python/site-packages (from httpcore==1.*->httpx>=0.27.0->chromadb) (0.16.0)\n",
      "Requirement already satisfied: zipp>=3.20 in /Users/Aksorn_AI/Library/Python/3.9/lib/python/site-packages (from importlib-metadata>=4.6->build>=1.0.3->chromadb) (3.23.0)\n",
      "Requirement already satisfied: attrs>=22.2.0 in /Users/Aksorn_AI/Library/Python/3.9/lib/python/site-packages (from jsonschema>=4.19.0->chromadb) (25.3.0)\n",
      "Collecting jsonschema-specifications>=2023.03.6 (from jsonschema>=4.19.0->chromadb)\n",
      "  Downloading jsonschema_specifications-2025.4.1-py3-none-any.whl.metadata (2.9 kB)\n",
      "Collecting referencing>=0.28.4 (from jsonschema>=4.19.0->chromadb)\n",
      "  Downloading referencing-0.36.2-py3-none-any.whl.metadata (2.8 kB)\n",
      "Collecting rpds-py>=0.7.1 (from jsonschema>=4.19.0->chromadb)\n",
      "  Downloading rpds_py-0.26.0-cp39-cp39-macosx_11_0_arm64.whl.metadata (4.2 kB)\n",
      "Collecting google-auth>=1.0.1 (from kubernetes>=28.1.0->chromadb)\n",
      "  Downloading google_auth-2.40.3-py2.py3-none-any.whl.metadata (6.2 kB)\n",
      "Collecting websocket-client!=0.40.0,!=0.41.*,!=0.42.*,>=0.32.0 (from kubernetes>=28.1.0->chromadb)\n",
      "  Downloading websocket_client-1.8.0-py3-none-any.whl.metadata (8.0 kB)\n",
      "Collecting requests-oauthlib (from kubernetes>=28.1.0->chromadb)\n",
      "  Downloading requests_oauthlib-2.0.0-py2.py3-none-any.whl.metadata (11 kB)\n",
      "Collecting oauthlib>=3.2.2 (from kubernetes>=28.1.0->chromadb)\n",
      "  Downloading oauthlib-3.3.1-py3-none-any.whl.metadata (7.9 kB)\n",
      "Collecting durationpy>=0.7 (from kubernetes>=28.1.0->chromadb)\n",
      "  Downloading durationpy-0.10-py3-none-any.whl.metadata (340 bytes)\n",
      "Collecting cachetools<6.0,>=2.0.0 (from google-auth>=1.0.1->kubernetes>=28.1.0->chromadb)\n",
      "  Downloading cachetools-5.5.2-py3-none-any.whl.metadata (5.4 kB)\n",
      "Collecting pyasn1-modules>=0.2.1 (from google-auth>=1.0.1->kubernetes>=28.1.0->chromadb)\n",
      "  Downloading pyasn1_modules-0.4.2-py3-none-any.whl.metadata (3.5 kB)\n",
      "Collecting rsa<5,>=3.1.4 (from google-auth>=1.0.1->kubernetes>=28.1.0->chromadb)\n",
      "  Downloading rsa-4.9.1-py3-none-any.whl.metadata (5.6 kB)\n",
      "Collecting pyasn1>=0.1.3 (from rsa<5,>=3.1.4->google-auth>=1.0.1->kubernetes>=28.1.0->chromadb)\n",
      "  Downloading pyasn1-0.6.1-py3-none-any.whl.metadata (8.4 kB)\n",
      "Collecting coloredlogs (from onnxruntime>=1.14.1->chromadb)\n",
      "  Downloading coloredlogs-15.0.1-py2.py3-none-any.whl.metadata (12 kB)\n",
      "Collecting flatbuffers (from onnxruntime>=1.14.1->chromadb)\n",
      "  Downloading flatbuffers-25.2.10-py2.py3-none-any.whl.metadata (875 bytes)\n",
      "Requirement already satisfied: protobuf in /Users/Aksorn_AI/Library/Python/3.9/lib/python/site-packages (from onnxruntime>=1.14.1->chromadb) (6.31.1)\n",
      "Requirement already satisfied: sympy in /Users/Aksorn_AI/Library/Python/3.9/lib/python/site-packages (from onnxruntime>=1.14.1->chromadb) (1.14.0)\n",
      "Collecting googleapis-common-protos~=1.57 (from opentelemetry-exporter-otlp-proto-grpc>=1.2.0->chromadb)\n",
      "  Downloading googleapis_common_protos-1.70.0-py3-none-any.whl.metadata (9.3 kB)\n",
      "Collecting opentelemetry-exporter-otlp-proto-common==1.35.0 (from opentelemetry-exporter-otlp-proto-grpc>=1.2.0->chromadb)\n",
      "  Downloading opentelemetry_exporter_otlp_proto_common-1.35.0-py3-none-any.whl.metadata (1.8 kB)\n",
      "Collecting opentelemetry-proto==1.35.0 (from opentelemetry-exporter-otlp-proto-grpc>=1.2.0->chromadb)\n",
      "  Downloading opentelemetry_proto-1.35.0-py3-none-any.whl.metadata (2.3 kB)\n",
      "Collecting opentelemetry-semantic-conventions==0.56b0 (from opentelemetry-sdk>=1.2.0->chromadb)\n",
      "  Downloading opentelemetry_semantic_conventions-0.56b0-py3-none-any.whl.metadata (2.4 kB)\n",
      "Requirement already satisfied: annotated-types>=0.6.0 in /Users/Aksorn_AI/Library/Python/3.9/lib/python/site-packages (from pydantic>=1.9->chromadb) (0.7.0)\n",
      "Requirement already satisfied: pydantic-core==2.33.2 in /Users/Aksorn_AI/Library/Python/3.9/lib/python/site-packages (from pydantic>=1.9->chromadb) (2.33.2)\n",
      "Requirement already satisfied: typing-inspection>=0.4.0 in /Users/Aksorn_AI/Library/Python/3.9/lib/python/site-packages (from pydantic>=1.9->chromadb) (0.4.1)\n",
      "Collecting markdown-it-py>=2.2.0 (from rich>=10.11.0->chromadb)\n",
      "  Downloading markdown_it_py-3.0.0-py3-none-any.whl.metadata (6.9 kB)\n",
      "Requirement already satisfied: pygments<3.0.0,>=2.13.0 in /Users/Aksorn_AI/Library/Python/3.9/lib/python/site-packages (from rich>=10.11.0->chromadb) (2.19.1)\n",
      "Collecting mdurl~=0.1 (from markdown-it-py>=2.2.0->rich>=10.11.0->chromadb)\n",
      "  Downloading mdurl-0.1.2-py3-none-any.whl.metadata (1.6 kB)\n",
      "Requirement already satisfied: huggingface-hub<1.0,>=0.16.4 in /Users/Aksorn_AI/Library/Python/3.9/lib/python/site-packages (from tokenizers>=0.13.2->chromadb) (0.33.2)\n",
      "Requirement already satisfied: filelock in /Users/Aksorn_AI/Library/Python/3.9/lib/python/site-packages (from huggingface-hub<1.0,>=0.16.4->tokenizers>=0.13.2->chromadb) (3.18.0)\n",
      "Requirement already satisfied: fsspec>=2023.5.0 in /Users/Aksorn_AI/Library/Python/3.9/lib/python/site-packages (from huggingface-hub<1.0,>=0.16.4->tokenizers>=0.13.2->chromadb) (2025.3.0)\n",
      "Requirement already satisfied: hf-xet<2.0.0,>=1.1.2 in /Users/Aksorn_AI/Library/Python/3.9/lib/python/site-packages (from huggingface-hub<1.0,>=0.16.4->tokenizers>=0.13.2->chromadb) (1.1.5)\n",
      "Requirement already satisfied: click>=8.0.0 in /Users/Aksorn_AI/Library/Python/3.9/lib/python/site-packages (from typer>=0.9.0->chromadb) (8.1.8)\n",
      "Collecting shellingham>=1.3.0 (from typer>=0.9.0->chromadb)\n",
      "  Downloading shellingham-1.5.4-py2.py3-none-any.whl.metadata (3.5 kB)\n",
      "Collecting httptools>=0.6.3 (from uvicorn[standard]>=0.18.3->chromadb)\n",
      "  Downloading httptools-0.6.4-cp39-cp39-macosx_11_0_arm64.whl.metadata (3.6 kB)\n",
      "Requirement already satisfied: python-dotenv>=0.13 in /Users/Aksorn_AI/Library/Python/3.9/lib/python/site-packages (from uvicorn[standard]>=0.18.3->chromadb) (1.1.1)\n",
      "Collecting uvloop>=0.15.1 (from uvicorn[standard]>=0.18.3->chromadb)\n",
      "  Downloading uvloop-0.21.0-cp39-cp39-macosx_10_9_universal2.whl.metadata (4.9 kB)\n",
      "Collecting watchfiles>=0.13 (from uvicorn[standard]>=0.18.3->chromadb)\n",
      "  Downloading watchfiles-1.1.0-cp39-cp39-macosx_11_0_arm64.whl.metadata (4.9 kB)\n",
      "Collecting websockets>=10.4 (from uvicorn[standard]>=0.18.3->chromadb)\n",
      "  Downloading websockets-15.0.1-cp39-cp39-macosx_11_0_arm64.whl.metadata (6.8 kB)\n",
      "Requirement already satisfied: exceptiongroup>=1.0.2 in /Users/Aksorn_AI/Library/Python/3.9/lib/python/site-packages (from anyio->httpx>=0.27.0->chromadb) (1.3.0)\n",
      "Requirement already satisfied: sniffio>=1.1 in /Users/Aksorn_AI/Library/Python/3.9/lib/python/site-packages (from anyio->httpx>=0.27.0->chromadb) (1.3.1)\n",
      "Collecting humanfriendly>=9.1 (from coloredlogs->onnxruntime>=1.14.1->chromadb)\n",
      "  Downloading humanfriendly-10.0-py2.py3-none-any.whl.metadata (9.2 kB)\n",
      "Requirement already satisfied: mpmath<1.4,>=1.1.0 in /Users/Aksorn_AI/Library/Python/3.9/lib/python/site-packages (from sympy->onnxruntime>=1.14.1->chromadb) (1.3.0)\n",
      "Downloading chromadb-1.0.15-cp39-abi3-macosx_11_0_arm64.whl (18.1 MB)\n",
      "\u001b[2K   \u001b[90m━━━━━━━━━━━━━━━━━━━━━━━━━━━━━━━━━━━━━━━━\u001b[0m \u001b[32m18.1/18.1 MB\u001b[0m \u001b[31m1.1 MB/s\u001b[0m eta \u001b[36m0:00:00\u001b[0ma \u001b[36m0:00:01\u001b[0mm\n",
      "\u001b[?25hDownloading posthog-5.4.0-py3-none-any.whl (105 kB)\n",
      "Downloading backoff-2.2.1-py3-none-any.whl (15 kB)\n",
      "Downloading bcrypt-4.3.0-cp39-abi3-macosx_10_12_universal2.whl (498 kB)\n",
      "Downloading build-1.2.2.post1-py3-none-any.whl (22 kB)\n",
      "Downloading grpcio-1.73.1-cp39-cp39-macosx_11_0_universal2.whl (10.6 MB)\n",
      "\u001b[2K   \u001b[90m━━━━━━━━━━━━━━━━━━━━━━━━━━━━━━━━━━━━━━━━\u001b[0m \u001b[32m10.6/10.6 MB\u001b[0m \u001b[31m1.8 MB/s\u001b[0m eta \u001b[36m0:00:00\u001b[0ma \u001b[36m0:00:01\u001b[0mm\n",
      "\u001b[?25hDownloading jsonschema-4.24.0-py3-none-any.whl (88 kB)\n",
      "Downloading jsonschema_specifications-2025.4.1-py3-none-any.whl (18 kB)\n",
      "Downloading kubernetes-33.1.0-py2.py3-none-any.whl (1.9 MB)\n",
      "\u001b[2K   \u001b[90m━━━━━━━━━━━━━━━━━━━━━━━━━━━━━━━━━━━━━━━━\u001b[0m \u001b[32m1.9/1.9 MB\u001b[0m \u001b[31m1.8 MB/s\u001b[0m eta \u001b[36m0:00:00\u001b[0ma \u001b[36m0:00:01\u001b[0m\n",
      "\u001b[?25hDownloading durationpy-0.10-py3-none-any.whl (3.9 kB)\n",
      "Downloading google_auth-2.40.3-py2.py3-none-any.whl (216 kB)\n",
      "Downloading cachetools-5.5.2-py3-none-any.whl (10 kB)\n",
      "Downloading rsa-4.9.1-py3-none-any.whl (34 kB)\n",
      "Downloading mmh3-5.1.0-cp39-cp39-macosx_11_0_arm64.whl (40 kB)\n",
      "Downloading oauthlib-3.3.1-py3-none-any.whl (160 kB)\n",
      "Downloading onnxruntime-1.19.2-cp39-cp39-macosx_11_0_universal2.whl (16.8 MB)\n",
      "\u001b[2K   \u001b[90m━━━━━━━━━━━━━━━━━━━━━━━━━━━━━━━━━━━━━━━━\u001b[0m \u001b[32m16.8/16.8 MB\u001b[0m \u001b[31m2.6 MB/s\u001b[0m eta \u001b[36m0:00:00\u001b[0ma \u001b[36m0:00:01\u001b[0m\n",
      "\u001b[?25hDownloading opentelemetry_api-1.35.0-py3-none-any.whl (65 kB)\n",
      "Downloading opentelemetry_exporter_otlp_proto_grpc-1.35.0-py3-none-any.whl (18 kB)\n",
      "Downloading opentelemetry_exporter_otlp_proto_common-1.35.0-py3-none-any.whl (18 kB)\n",
      "Downloading opentelemetry_proto-1.35.0-py3-none-any.whl (72 kB)\n",
      "Downloading googleapis_common_protos-1.70.0-py3-none-any.whl (294 kB)\n",
      "Downloading opentelemetry_sdk-1.35.0-py3-none-any.whl (119 kB)\n",
      "Downloading opentelemetry_semantic_conventions-0.56b0-py3-none-any.whl (201 kB)\n",
      "Downloading overrides-7.7.0-py3-none-any.whl (17 kB)\n",
      "Downloading pyasn1-0.6.1-py3-none-any.whl (83 kB)\n",
      "Downloading pyasn1_modules-0.4.2-py3-none-any.whl (181 kB)\n",
      "Downloading pybase64-1.4.1-cp39-cp39-macosx_11_0_arm64.whl (31 kB)\n",
      "Downloading referencing-0.36.2-py3-none-any.whl (26 kB)\n",
      "Downloading rich-14.0.0-py3-none-any.whl (243 kB)\n",
      "Downloading markdown_it_py-3.0.0-py3-none-any.whl (87 kB)\n",
      "Downloading mdurl-0.1.2-py3-none-any.whl (10.0 kB)\n",
      "Downloading rpds_py-0.26.0-cp39-cp39-macosx_11_0_arm64.whl (358 kB)\n",
      "Using cached tomli-2.2.1-py3-none-any.whl (14 kB)\n",
      "Downloading typer-0.16.0-py3-none-any.whl (46 kB)\n",
      "Downloading shellingham-1.5.4-py2.py3-none-any.whl (9.8 kB)\n",
      "Downloading httptools-0.6.4-cp39-cp39-macosx_11_0_arm64.whl (104 kB)\n",
      "Downloading uvloop-0.21.0-cp39-cp39-macosx_10_9_universal2.whl (1.4 MB)\n",
      "\u001b[2K   \u001b[90m━━━━━━━━━━━━━━━━━━━━━━━━━━━━━━━━━━━━━━━━\u001b[0m \u001b[32m1.4/1.4 MB\u001b[0m \u001b[31m3.8 MB/s\u001b[0m eta \u001b[36m0:00:00\u001b[0ma \u001b[36m0:00:01\u001b[0m\n",
      "\u001b[?25hDownloading watchfiles-1.1.0-cp39-cp39-macosx_11_0_arm64.whl (397 kB)\n",
      "Downloading websocket_client-1.8.0-py3-none-any.whl (58 kB)\n",
      "Downloading websockets-15.0.1-cp39-cp39-macosx_11_0_arm64.whl (173 kB)\n",
      "Downloading coloredlogs-15.0.1-py2.py3-none-any.whl (46 kB)\n",
      "Downloading humanfriendly-10.0-py2.py3-none-any.whl (86 kB)\n",
      "Downloading flatbuffers-25.2.10-py2.py3-none-any.whl (30 kB)\n",
      "Downloading pyproject_hooks-1.2.0-py3-none-any.whl (10 kB)\n",
      "Downloading requests_oauthlib-2.0.0-py2.py3-none-any.whl (24 kB)\n",
      "Building wheels for collected packages: pypika\n",
      "  Building wheel for pypika (pyproject.toml) ... \u001b[?25ldone\n",
      "\u001b[?25h  Created wheel for pypika: filename=pypika-0.48.9-py2.py3-none-any.whl size=53803 sha256=aaa2394c8fe7959f2a3b3a0c98870e79da9a1338b4334e1d48d468195809fab3\n",
      "  Stored in directory: /Users/Aksorn_AI/Library/Caches/pip/wheels/f7/02/64/d541eac67ec459309d1fb19e727f58ecf7ffb4a8bf42d4cfe5\n",
      "Successfully built pypika\n",
      "Installing collected packages: pypika, flatbuffers, durationpy, websockets, websocket-client, uvloop, tomli, shellingham, rpds-py, pyproject_hooks, pybase64, pyasn1, overrides, opentelemetry-proto, oauthlib, mmh3, mdurl, humanfriendly, httptools, grpcio, googleapis-common-protos, cachetools, bcrypt, backoff, rsa, requests-oauthlib, referencing, pyasn1-modules, posthog, opentelemetry-exporter-otlp-proto-common, opentelemetry-api, markdown-it-py, coloredlogs, build, watchfiles, rich, opentelemetry-semantic-conventions, onnxruntime, jsonschema-specifications, google-auth, typer, opentelemetry-sdk, kubernetes, jsonschema, opentelemetry-exporter-otlp-proto-grpc, chromadb\n",
      "\u001b[2K   \u001b[90m━━━━━━━━━━━━━━━━━━━━━━━━━━━━━━━━━━━━━━━━\u001b[0m \u001b[32m46/46\u001b[0m [chromadb]chromadb]jsonschema]]ntic-conventions]\n",
      "\u001b[1A\u001b[2KSuccessfully installed backoff-2.2.1 bcrypt-4.3.0 build-1.2.2.post1 cachetools-5.5.2 chromadb-1.0.15 coloredlogs-15.0.1 durationpy-0.10 flatbuffers-25.2.10 google-auth-2.40.3 googleapis-common-protos-1.70.0 grpcio-1.73.1 httptools-0.6.4 humanfriendly-10.0 jsonschema-4.24.0 jsonschema-specifications-2025.4.1 kubernetes-33.1.0 markdown-it-py-3.0.0 mdurl-0.1.2 mmh3-5.1.0 oauthlib-3.3.1 onnxruntime-1.19.2 opentelemetry-api-1.35.0 opentelemetry-exporter-otlp-proto-common-1.35.0 opentelemetry-exporter-otlp-proto-grpc-1.35.0 opentelemetry-proto-1.35.0 opentelemetry-sdk-1.35.0 opentelemetry-semantic-conventions-0.56b0 overrides-7.7.0 posthog-5.4.0 pyasn1-0.6.1 pyasn1-modules-0.4.2 pybase64-1.4.1 pypika-0.48.9 pyproject_hooks-1.2.0 referencing-0.36.2 requests-oauthlib-2.0.0 rich-14.0.0 rpds-py-0.26.0 rsa-4.9.1 shellingham-1.5.4 tomli-2.2.1 typer-0.16.0 uvloop-0.21.0 watchfiles-1.1.0 websocket-client-1.8.0 websockets-15.0.1\n"
     ]
    }
   ],
   "source": [
    "!pip install chromadb"
   ]
  },
  {
   "cell_type": "code",
   "execution_count": 385,
   "id": "9aaebf80",
   "metadata": {},
   "outputs": [
    {
     "name": "stdout",
     "output_type": "stream",
     "text": [
      "1. การเตรียมสารเภสัชรังสี หรือ Hot lab: \n",
      "ทุกเคสการตรวจ ก่อนคำนวนสารเภสัชรังสีต้องดูน้ำหนักของคนไข้ก่อน ซึ่งแต่ละเคสการตรวจสามาถแบ่งตามชื่อการตรวจได้ดังนี้\n",
      "\n",
      "1.1) การตรวจ Parathyroi: \n",
      "ใช้สารเภสัชรังสีเทคนีเชียม(Tco4-MIBI) ปริมาณ 20 mCi \n",
      "\n",
      "1.2) การตรวจ  BONE:\n",
      "ใช้สารเภสัชรังสีเทคนีเชียม(Tco4-MDP) ปริมาณ 20 mCi สำหรับหมอส่วนใหญ่\n",
      "ใช้ปริมาณนี้กับคนไข้ทุกคน  ยกเว้นหมอสมพรที่ใช้สารเภสัชรังสีเทคนีเชียม(Tco4-MDP) ปริมาณ 15 mCi  \n",
      "ข้อควรระวัง: ในเคสการตรวจ  BONE สำหรับเด็กอายุต่ำกว่า 18 ปี ต้องเตรียมสารเภสัชรังสีเทคนีเชียม(Tco4-MDP)  โดยการคำนวนปริมาณสารเภสัชรังสีตามน้ำหนักเท่านั้น\n",
      "\n",
      "\n",
      "topic: ['1. การเตรียมสารเภสัชรังสี หรือ Hot lab: ']\n",
      "sub_topic: []\n",
      "sub_topic: ['1.1) การตรวจ Parathyroi: ']\n",
      "sub_topic: ['1.2) การตรวจ  BONE:']\n"
     ]
    }
   ],
   "source": [
    "from langchain.text_splitter import RecursiveCharacterTextSplitter\n",
    "import re, os\n",
    "from langchain.schema import Document\n",
    "\n",
    "path = '/Users/Aksorn_AI/Desktop/RAG/data/hotlab-v1.txt'\n",
    "# path = '/Users/Aksorn_AI/Desktop/RAG/data/protocal-v1.txt'\n",
    "# path = '/Users/Aksorn_AI/Desktop/RAG/data/iodine-v1.txt'\n",
    "\n",
    "\n",
    "filename = os.path.basename(path) \n",
    "\n",
    "with open(path, 'r', encoding='utf8') as f:\n",
    "    raw_text = f.read()\n",
    "print(raw_text)\n",
    "\n",
    "\n",
    "def set_topic(raw_text):\n",
    "    topic_pattern = r\"^(\\d+\\.\\s.+?:\\s*)$\"\n",
    "    topics = re.findall(topic_pattern, raw_text, re.MULTILINE)\n",
    "    print(\"topic:\", topics)\n",
    "    return topics\n",
    "\n",
    "\n",
    "def set_sub_topics(raw_text):\n",
    "    sub_topic_pattern = r\"^(\\d+\\.\\d+\\)\\s.+?:\\s*)$\"\n",
    "    sub_topics = re.findall(sub_topic_pattern, raw_text, re.MULTILINE)\n",
    "    print(\"sub_topic:\", sub_topics)\n",
    "    return sub_topics\n",
    "\n",
    "text_splitter = RecursiveCharacterTextSplitter(\n",
    "    chunk_size=200,          \n",
    "    chunk_overlap=0,         \n",
    "    separators=[\"\\n\\n\"]      \n",
    ")\n",
    "\n",
    "chunks = text_splitter.split_text(raw_text)\n",
    "topics = set_topic(raw_text)\n",
    "\n",
    "docs = []\n",
    "last_sub_topic = None\n",
    "\n",
    "for i, chunk in enumerate(chunks):\n",
    "    sub_topics = set_sub_topics(chunk)  # สมมติ return เป็น list หรือ string (กรณีเดียวก็ [str])\n",
    "\n",
    "    # ถ้าเจอ sub_topic ใหม่ → เก็บไว้\n",
    "    if sub_topics and len(sub_topics) > 0:\n",
    "        last_sub_topic = sub_topics\n",
    "    else:\n",
    "        # ถ้าไม่เจอ → ใช้อันก่อนหน้า\n",
    "        sub_topics = last_sub_topic\n",
    "\n",
    "\n",
    "    doc = Document(\n",
    "        page_content=chunk,\n",
    "        metadata={\n",
    "            \"source\": path,\n",
    "            \"filename\": filename,\n",
    "            \"topic\": topics,            # ถ้าอยาก inherit เหมือน sub_topic ก็ปรับ pattern นี้ได้เลย\n",
    "            \"sub-topic\": sub_topics,\n",
    "            \"ids\": i\n",
    "        }\n",
    "    )\n",
    "    docs.append(doc)\n",
    "\n"
   ]
  },
  {
   "cell_type": "code",
   "execution_count": 386,
   "id": "5c7af3bb",
   "metadata": {},
   "outputs": [
    {
     "name": "stdout",
     "output_type": "stream",
     "text": [
      "{'source': '/Users/Aksorn_AI/Desktop/RAG/data/hotlab-v1.txt', 'filename': 'hotlab-v1.txt', 'topic': '1. การเตรียมสารเภสัชรังสี หรือ Hot lab:', 'sub-topic': None, 'ids': 0}\n",
      "{'source': '/Users/Aksorn_AI/Desktop/RAG/data/hotlab-v1.txt', 'filename': 'hotlab-v1.txt', 'topic': '1. การเตรียมสารเภสัชรังสี หรือ Hot lab:', 'sub-topic': '1.1) การตรวจ Parathyroi:', 'ids': 1}\n",
      "{'source': '/Users/Aksorn_AI/Desktop/RAG/data/hotlab-v1.txt', 'filename': 'hotlab-v1.txt', 'topic': '1. การเตรียมสารเภสัชรังสี หรือ Hot lab:', 'sub-topic': '1.2) การตรวจ  BONE:', 'ids': 2}\n"
     ]
    }
   ],
   "source": [
    "def flatten_metadata(meta):\n",
    "    for k, v in meta.items():\n",
    "        if isinstance(v, list):\n",
    "            meta[k] = ' | '.join(str(i).strip() for i in v)\n",
    "    return meta\n",
    "\n",
    "for doc in docs:\n",
    "    doc.metadata = flatten_metadata(doc.metadata)\n",
    "    print(doc.metadata)"
   ]
  },
  {
   "cell_type": "code",
   "execution_count": 387,
   "id": "ab60f969",
   "metadata": {},
   "outputs": [
    {
     "data": {
      "text/plain": [
       "[Document(metadata={'source': '/Users/Aksorn_AI/Desktop/RAG/data/hotlab-v1.txt', 'filename': 'hotlab-v1.txt', 'topic': '1. การเตรียมสารเภสัชรังสี หรือ Hot lab:', 'sub-topic': None, 'ids': 0}, page_content='1. การเตรียมสารเภสัชรังสี หรือ Hot lab: \\nทุกเคสการตรวจ ก่อนคำนวนสารเภสัชรังสีต้องดูน้ำหนักของคนไข้ก่อน ซึ่งแต่ละเคสการตรวจสามาถแบ่งตามชื่อการตรวจได้ดังนี้'),\n",
       " Document(metadata={'source': '/Users/Aksorn_AI/Desktop/RAG/data/hotlab-v1.txt', 'filename': 'hotlab-v1.txt', 'topic': '1. การเตรียมสารเภสัชรังสี หรือ Hot lab:', 'sub-topic': '1.1) การตรวจ Parathyroi:', 'ids': 1}, page_content='1.1) การตรวจ Parathyroi: \\nใช้สารเภสัชรังสีเทคนีเชียม(Tco4-MIBI) ปริมาณ 20 mCi'),\n",
       " Document(metadata={'source': '/Users/Aksorn_AI/Desktop/RAG/data/hotlab-v1.txt', 'filename': 'hotlab-v1.txt', 'topic': '1. การเตรียมสารเภสัชรังสี หรือ Hot lab:', 'sub-topic': '1.2) การตรวจ  BONE:', 'ids': 2}, page_content='\\n\\n1.2) การตรวจ  BONE:\\nใช้สารเภสัชรังสีเทคนีเชียม(Tco4-MDP) ปริมาณ 20 mCi สำหรับหมอส่วนใหญ่\\nใช้ปริมาณนี้กับคนไข้ทุกคน  ยกเว้นหมอสมพรที่ใช้สารเภสัชรังสีเทคนีเชียม(Tco4-MDP) ปริมาณ 15 mCi  \\nข้อควรระวัง: ในเคสการตรวจ  BONE สำหรับเด็กอายุต่ำกว่า 18 ปี ต้องเตรียมสารเภสัชรังสีเทคนีเชียม(Tco4-MDP)  โดยการคำนวนปริมาณสารเภสัชรังสีตามน้ำหนักเท่านั้น')]"
      ]
     },
     "execution_count": 387,
     "metadata": {},
     "output_type": "execute_result"
    }
   ],
   "source": [
    "docs"
   ]
  },
  {
   "cell_type": "markdown",
   "id": "12b39605",
   "metadata": {},
   "source": [
    "Embedding"
   ]
  },
  {
   "cell_type": "code",
   "execution_count": 336,
   "id": "f32255a5",
   "metadata": {},
   "outputs": [],
   "source": [
    "from langchain_community.embeddings import HuggingFaceEmbeddings\n",
    "\n",
    "embedding_function = HuggingFaceEmbeddings(model_name=\"intfloat/multilingual-e5-base\")"
   ]
  },
  {
   "cell_type": "markdown",
   "id": "aab0468f",
   "metadata": {},
   "source": [
    "Add data to collection"
   ]
  },
  {
   "cell_type": "code",
   "execution_count": 286,
   "id": "65e8f812",
   "metadata": {},
   "outputs": [],
   "source": [
    "col_name = 'iodine_collection'"
   ]
  },
  {
   "cell_type": "code",
   "execution_count": 287,
   "id": "fe75ba29",
   "metadata": {},
   "outputs": [
    {
     "data": {
      "text/plain": [
       "['a8142970-ce32-408f-9b32-bdd634131036',\n",
       " '491c4a0f-eeab-4268-b3dd-bc62131a01d1',\n",
       " 'eba02d35-b3f9-408e-9a1b-a043c36866bc']"
      ]
     },
     "execution_count": 287,
     "metadata": {},
     "output_type": "execute_result"
    }
   ],
   "source": [
    "from langchain_community.vectorstores import Chroma\n",
    "\n",
    "vector_store = Chroma(\n",
    "    persist_directory=\"/Users/Aksorn_AI/Desktop/RAG/chroma_langchain\",\n",
    "    embedding_function=embedding_function,\n",
    "    collection_name=col_name\n",
    ")\n",
    "\n",
    "vector_store.add_documents(docs)"
   ]
  },
  {
   "cell_type": "markdown",
   "id": "ca41f516",
   "metadata": {},
   "source": [
    "Manage Collection"
   ]
  },
  {
   "cell_type": "code",
   "execution_count": 280,
   "id": "b4a539a8",
   "metadata": {},
   "outputs": [],
   "source": [
    "import chromadb"
   ]
  },
  {
   "cell_type": "code",
   "execution_count": 288,
   "id": "e65c112a",
   "metadata": {},
   "outputs": [
    {
     "name": "stdout",
     "output_type": "stream",
     "text": [
      "[Collection(name=protocol_collection), Collection(name=hotlab_collection), Collection(name=iodine_collection)]\n"
     ]
    }
   ],
   "source": [
    "print(chroma_client.list_collections())"
   ]
  },
  {
   "cell_type": "markdown",
   "id": "a5548f62",
   "metadata": {},
   "source": [
    "Delete Collection"
   ]
  },
  {
   "cell_type": "code",
   "execution_count": 273,
   "id": "84a2beac",
   "metadata": {},
   "outputs": [],
   "source": [
    "# chroma_client.delete_collection(col_name)"
   ]
  },
  {
   "cell_type": "markdown",
   "id": "2f6db8ec",
   "metadata": {},
   "source": [
    "Check Collection"
   ]
  },
  {
   "cell_type": "code",
   "execution_count": 289,
   "id": "a0210312",
   "metadata": {},
   "outputs": [
    {
     "name": "stdout",
     "output_type": "stream",
     "text": [
      "============================================================\n",
      "Doc #0, ID: a8142970-ce32-408f-9b32-bdd634131036\n",
      "CONTENT:\n",
      " 1. การให้น้ำแร่หรือการกลืนแร่ Iodine:\n",
      "META:\n",
      " {'ids': 0, 'filename': 'hotlab-v1.txt', 'sub-topic': '1.1) การให้น้ำแร่หรือการกลืนแร่ปริมาณต่ำ(Low dose):', 'topic': '1. การให้น้ำแร่หรือการกลืนแร่ Iodine:', 'source': 'data/hotlab-v1.txt'}\n",
      "============================================================\n",
      "Doc #1, ID: 491c4a0f-eeab-4268-b3dd-bc62131a01d1\n",
      "CONTENT:\n",
      " 1.1) การให้น้ำแร่หรือการกลืนแร่ปริมาณต่ำ(Low dose):\n",
      "ความรู้และข้อมูลการให้น้ำแร่ ( Iodine-131 ) แบบ Low dose และ High dose ให้แก่ผู้ป่วย  \n",
      "การเตรียมตัวก่อนกลืนแร่ \n",
      "ผู้ป่วยต้องเจาะเลือดและพบแพทย์ก่อนได้รับการกลืนแร่ ผลเลือด TSH > 30  จึงจะสามารถกลืนแร่ได้ ( ในกรณีที่ผู้ป่วยเป็น  GD แพทย์อาจจะพิจารณาให้ผู้ป่วยสามารถกลืนแร่ได้ ) \n",
      "ผู้ป่วยต้อง NPO อย่างน้อย 1 ชั่วโมงก่อนกลืนแร่ ยกเว้นแพทย์พงศธร NPO อย่างน้อย 2 ชั่วโมง \n",
      "ปริมาณแร่  Low dose มีค่าตั้งแต่ 3-30 mCi  โดยเราต้องทำการแนะนำวิธีการปฏิบัติตัวหลังกลืนแร่ ดังนี้ \n",
      "อธิบายคนไข้ Low dose 🫧✨🥹\n",
      "อธิบายการเตรียมตัวคนไข้ บอกว่าแต่ละคนกินเท่าไหร่ \n",
      "ให้เซ็นยินยอม \n",
      "และพามาดูห้องกินน้ำแร่  \n",
      "2 สัปดาห์ถ้า 25 mCi \n",
      "1 สัปดาห์ 15-20 mCi ได้ ถ้าสำหรับผู้ใหญ่\n",
      "META:\n",
      " {'ids': 1, 'filename': 'hotlab-v1.txt', 'sub-topic': '1.1) การให้น้ำแร่หรือการกลืนแร่ปริมาณต่ำ(Low dose):', 'source': 'data/hotlab-v1.txt', 'topic': '1. การให้น้ำแร่หรือการกลืนแร่ Iodine:'}\n",
      "============================================================\n",
      "Doc #2, ID: eba02d35-b3f9-408e-9a1b-a043c36866bc\n",
      "CONTENT:\n",
      " อธิบายคนไข้ Low dose 🫧✨🥹\n",
      "อธิบายการเตรียมตัวคนไข้ บอกว่าแต่ละคนกินเท่าไหร่ \n",
      "ให้เซ็นยินยอม \n",
      "และพามาดูห้องกินน้ำแร่  \n",
      "2 สัปดาห์ถ้า 25 mCi \n",
      "1 สัปดาห์ 15-20 mCi ได้ ถ้าสำหรับผู้ใหญ่\n",
      "🍦รังสีจะสลายไป ไม่ค้าง \n",
      "🍦ปัสสาวะ  ราดน้ำเยอะๆ 3-5 ครั้ง \n",
      "👅น้ำลาย จานชาม ผลไม้🍉\n",
      "💧เหงื่อ อาบน้ำสระผม ซักเสื้อผ้าแยก \n",
      "🤮อาเจียนคลื่นไส้ ให้ใส่ชักโครก \n",
      "❌งด iodine ต่อ 2 weeks\n",
      "😍NPO น้ำและอาหารต่ออีก 30 นาที -1 ชั่วโมงนะคะ\n",
      "👫🏼อยู่ห่างจากคนอื่น 2-3 เมตร \n",
      "⏰ลดเวลาอยู่กับคนอื่นในบ้านลง ขึ้นรถก็รีบเดินสวนไปเร็วๆ \n",
      "🚙มารถส่วนตัวหรือรถสาธารณะ ให้เลือกที่นั่งห่างเด็กและหญิงตั้งครรภ์  \n",
      "บอกให้กินตามหมายเลข เพราะโดสแต่ละคนไม่เท่ากันนะคะ\n",
      "META:\n",
      " {'source': 'data/hotlab-v1.txt', 'filename': 'hotlab-v1.txt', 'sub-topic': '1.1) การให้น้ำแร่หรือการกลืนแร่ปริมาณต่ำ(Low dose):', 'topic': '1. การให้น้ำแร่หรือการกลืนแร่ Iodine:', 'ids': 2}\n"
     ]
    }
   ],
   "source": [
    "# Local persistent database\n",
    "chroma_client = chromadb.PersistentClient(path=\"/Users/Aksorn_AI/Desktop/RAG/chroma_langchain\")\n",
    "collection = chroma_client.get_collection(col_name)\n",
    "data = collection.get(include=[\"documents\", \"metadatas\"])\n",
    "\n",
    "for idx, (doc, meta, id_) in enumerate(zip(data[\"documents\"], data[\"metadatas\"], data[\"ids\"])):\n",
    "    print(\"=\"*60)\n",
    "    print(f\"Doc #{idx}, ID: {id_}\")\n",
    "    print(\"CONTENT:\\n\", doc)\n",
    "    print(\"META:\\n\", meta)\n"
   ]
  },
  {
   "cell_type": "code",
   "execution_count": 290,
   "id": "931344d0",
   "metadata": {},
   "outputs": [
    {
     "name": "stderr",
     "output_type": "stream",
     "text": [
      "/var/folders/54/xm1kjlcx7y583vg073fv0z8c0000gn/T/ipykernel_34884/273241079.py:14: LangChainDeprecationWarning: The method `BaseRetriever.get_relevant_documents` was deprecated in langchain-core 0.1.46 and will be removed in 1.0. Use :meth:`~invoke` instead.\n",
      "  docs = retriever.get_relevant_documents(query)\n"
     ]
    },
    {
     "data": {
      "text/plain": [
       "[Document(metadata={'sub-topic': '1.1) การให้น้ำแร่หรือการกลืนแร่ปริมาณต่ำ(Low dose):', 'source': 'data/hotlab-v1.txt', 'filename': 'hotlab-v1.txt', 'ids': 0, 'topic': '1. การให้น้ำแร่หรือการกลืนแร่ Iodine:'}, page_content='1. การให้น้ำแร่หรือการกลืนแร่ Iodine:'),\n",
       " Document(metadata={'source': 'data/hotlab-v1.txt', 'filename': 'hotlab-v1.txt', 'topic': '1. การให้น้ำแร่หรือการกลืนแร่ Iodine:', 'sub-topic': '1.1) การให้น้ำแร่หรือการกลืนแร่ปริมาณต่ำ(Low dose):', 'ids': 1}, page_content='1.1) การให้น้ำแร่หรือการกลืนแร่ปริมาณต่ำ(Low dose):\\nความรู้และข้อมูลการให้น้ำแร่ ( Iodine-131 ) แบบ Low dose และ High dose ให้แก่ผู้ป่วย  \\nการเตรียมตัวก่อนกลืนแร่ \\nผู้ป่วยต้องเจาะเลือดและพบแพทย์ก่อนได้รับการกลืนแร่ ผลเลือด TSH > 30  จึงจะสามารถกลืนแร่ได้ ( ในกรณีที่ผู้ป่วยเป็น  GD แพทย์อาจจะพิจารณาให้ผู้ป่วยสามารถกลืนแร่ได้ ) \\nผู้ป่วยต้อง NPO อย่างน้อย 1 ชั่วโมงก่อนกลืนแร่ ยกเว้นแพทย์พงศธร NPO อย่างน้อย 2 ชั่วโมง \\nปริมาณแร่  Low dose มีค่าตั้งแต่ 3-30 mCi  โดยเราต้องทำการแนะนำวิธีการปฏิบัติตัวหลังกลืนแร่ ดังนี้ \\nอธิบายคนไข้ Low dose \\U0001fae7✨\\U0001f979\\nอธิบายการเตรียมตัวคนไข้ บอกว่าแต่ละคนกินเท่าไหร่\\xa0\\nให้เซ็นยินยอม\\xa0\\nและพามาดูห้องกินน้ำแร่ \\xa0\\n2 สัปดาห์ถ้า 25 mCi\\xa0\\n1 สัปดาห์ 15-20 mCi ได้ ถ้าสำหรับผู้ใหญ่'),\n",
       " Document(metadata={'filename': 'hotlab-v1.txt', 'sub-topic': '1.1) การให้น้ำแร่หรือการกลืนแร่ปริมาณต่ำ(Low dose):', 'topic': '1. การให้น้ำแร่หรือการกลืนแร่ Iodine:', 'ids': 2, 'source': 'data/hotlab-v1.txt'}, page_content='อธิบายคนไข้ Low dose \\U0001fae7✨\\U0001f979\\nอธิบายการเตรียมตัวคนไข้ บอกว่าแต่ละคนกินเท่าไหร่\\xa0\\nให้เซ็นยินยอม\\xa0\\nและพามาดูห้องกินน้ำแร่ \\xa0\\n2 สัปดาห์ถ้า 25 mCi\\xa0\\n1 สัปดาห์ 15-20 mCi ได้ ถ้าสำหรับผู้ใหญ่\\n🍦รังสีจะสลายไป ไม่ค้าง\\xa0\\n🍦ปัสสาวะ\\xa0 ราดน้ำเยอะๆ 3-5 ครั้ง\\xa0\\n👅น้ำลาย จานชาม ผลไม้🍉\\n💧เหงื่อ อาบน้ำสระผม ซักเสื้อผ้าแยก\\xa0\\n🤮อาเจียนคลื่นไส้ ให้ใส่ชักโครก\\xa0\\n❌งด iodine ต่อ 2 weeks\\n😍NPO น้ำและอาหารต่ออีก 30 นาที -1 ชั่วโมงนะคะ\\n👫🏼อยู่ห่างจากคนอื่น 2-3 เมตร\\xa0\\n⏰ลดเวลาอยู่กับคนอื่นในบ้านลง ขึ้นรถก็รีบเดินสวนไปเร็วๆ\\xa0\\n🚙มารถส่วนตัวหรือรถสาธารณะ ให้เลือกที่นั่งห่างเด็กและหญิงตั้งครรภ์ \\xa0\\nบอกให้กินตามหมายเลข เพราะโดสแต่ละคนไม่เท่ากันนะคะ')]"
      ]
     },
     "execution_count": 290,
     "metadata": {},
     "output_type": "execute_result"
    }
   ],
   "source": [
    "retriever = vector_store.as_retriever(\n",
    "search_type=\"similarity\",\n",
    "# search_type=\"mmr\",\n",
    "search_kwargs={\n",
    "        \"k\": 5,\n",
    "        # \"fetch_k\": 20,\n",
    "        # \"filter\": {\n",
    "        #     \"sub-topic\": \"\" \n",
    "        # }\n",
    "    }\n",
    ")\n",
    "# Retrieval\n",
    "query = \"การให้น้ำแร่หรือการกลืนแร่ปริมาณต่ำ\"\n",
    "docs = retriever.get_relevant_documents(query)\n",
    "docs\n"
   ]
  },
  {
   "cell_type": "code",
   "execution_count": 291,
   "id": "7cec5dcc",
   "metadata": {},
   "outputs": [
    {
     "name": "stdout",
     "output_type": "stream",
     "text": [
      "1. การให้น้ำแร่หรือการกลืนแร่ Iodine:\n",
      "\n",
      "1.1) การให้น้ำแร่หรือการกลืนแร่ปริมาณต่ำ(Low dose):\n",
      "ความรู้และข้อมูลการให้น้ำแร่ ( Iodine-131 ) แบบ Low dose และ High dose ให้แก่ผู้ป่วย  \n",
      "การเตรียมตัวก่อนกลืนแร่ \n",
      "ผู้ป่วยต้องเจาะเลือดและพบแพทย์ก่อนได้รับการกลืนแร่ ผลเลือด TSH > 30  จึงจะสามารถกลืนแร่ได้ ( ในกรณีที่ผู้ป่วยเป็น  GD แพทย์อาจจะพิจารณาให้ผู้ป่วยสามารถกลืนแร่ได้ ) \n",
      "ผู้ป่วยต้อง NPO อย่างน้อย 1 ชั่วโมงก่อนกลืนแร่ ยกเว้นแพทย์พงศธร NPO อย่างน้อย 2 ชั่วโมง \n",
      "ปริมาณแร่  Low dose มีค่าตั้งแต่ 3-30 mCi  โดยเราต้องทำการแนะนำวิธีการปฏิบัติตัวหลังกลืนแร่ ดังนี้ \n",
      "อธิบายคนไข้ Low dose 🫧✨🥹\n",
      "อธิบายการเตรียมตัวคนไข้ บอกว่าแต่ละคนกินเท่าไหร่ \n",
      "ให้เซ็นยินยอม \n",
      "และพามาดูห้องกินน้ำแร่  \n",
      "2 สัปดาห์ถ้า 25 mCi \n",
      "1 สัปดาห์ 15-20 mCi ได้ ถ้าสำหรับผู้ใหญ่\n",
      "\n",
      "อธิบายคนไข้ Low dose 🫧✨🥹\n",
      "อธิบายการเตรียมตัวคนไข้ บอกว่าแต่ละคนกินเท่าไหร่ \n",
      "ให้เซ็นยินยอม \n",
      "และพามาดูห้องกินน้ำแร่  \n",
      "2 สัปดาห์ถ้า 25 mCi \n",
      "1 สัปดาห์ 15-20 mCi ได้ ถ้าสำหรับผู้ใหญ่\n",
      "🍦รังสีจะสลายไป ไม่ค้าง \n",
      "🍦ปัสสาวะ  ราดน้ำเยอะๆ 3-5 ครั้ง \n",
      "👅น้ำลาย จานชาม ผลไม้🍉\n",
      "💧เหงื่อ อาบน้ำสระผม ซักเสื้อผ้าแยก \n",
      "🤮อาเจียนคลื่นไส้ ให้ใส่ชักโครก \n",
      "❌งด iodine ต่อ 2 weeks\n",
      "😍NPO น้ำและอาหารต่ออีก 30 นาที -1 ชั่วโมงนะคะ\n",
      "👫🏼อยู่ห่างจากคนอื่น 2-3 เมตร \n",
      "⏰ลดเวลาอยู่กับคนอื่นในบ้านลง ขึ้นรถก็รีบเดินสวนไปเร็วๆ \n",
      "🚙มารถส่วนตัวหรือรถสาธารณะ ให้เลือกที่นั่งห่างเด็กและหญิงตั้งครรภ์  \n",
      "บอกให้กินตามหมายเลข เพราะโดสแต่ละคนไม่เท่ากันนะคะ\n"
     ]
    }
   ],
   "source": [
    "context = \"\\n\\n\".join(doc.page_content for doc in docs)\n",
    "print(context)"
   ]
  },
  {
   "cell_type": "code",
   "execution_count": null,
   "id": "1417acd3",
   "metadata": {},
   "outputs": [],
   "source": []
  }
 ],
 "metadata": {
  "kernelspec": {
   "display_name": "Python 3",
   "language": "python",
   "name": "python3"
  },
  "language_info": {
   "codemirror_mode": {
    "name": "ipython",
    "version": 3
   },
   "file_extension": ".py",
   "mimetype": "text/x-python",
   "name": "python",
   "nbconvert_exporter": "python",
   "pygments_lexer": "ipython3",
   "version": "3.9.6"
  }
 },
 "nbformat": 4,
 "nbformat_minor": 5
}
