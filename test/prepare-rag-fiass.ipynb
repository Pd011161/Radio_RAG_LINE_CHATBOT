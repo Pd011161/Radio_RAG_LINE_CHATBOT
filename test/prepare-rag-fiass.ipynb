{
 "cells": [
  {
   "cell_type": "markdown",
   "id": "c6932337",
   "metadata": {},
   "source": [
    "Embedding"
   ]
  },
  {
   "cell_type": "code",
   "execution_count": 2,
   "id": "f5b290b8",
   "metadata": {},
   "outputs": [
    {
     "name": "stdout",
     "output_type": "stream",
     "text": [
      "Collecting sentence_transformers\n",
      "  Using cached sentence_transformers-5.0.0-py3-none-any.whl.metadata (16 kB)\n",
      "Collecting transformers<5.0.0,>=4.41.0 (from sentence_transformers)\n",
      "  Downloading transformers-4.53.2-py3-none-any.whl.metadata (40 kB)\n",
      "Collecting tqdm (from sentence_transformers)\n",
      "  Using cached tqdm-4.67.1-py3-none-any.whl.metadata (57 kB)\n",
      "Collecting torch>=1.11.0 (from sentence_transformers)\n",
      "  Using cached torch-2.7.1-cp39-none-macosx_11_0_arm64.whl.metadata (29 kB)\n",
      "Collecting scikit-learn (from sentence_transformers)\n",
      "  Using cached scikit_learn-1.6.1-cp39-cp39-macosx_12_0_arm64.whl.metadata (31 kB)\n",
      "Collecting scipy (from sentence_transformers)\n",
      "  Using cached scipy-1.13.1-cp39-cp39-macosx_12_0_arm64.whl.metadata (60 kB)\n",
      "Collecting huggingface-hub>=0.20.0 (from sentence_transformers)\n",
      "  Downloading huggingface_hub-0.33.4-py3-none-any.whl.metadata (14 kB)\n",
      "Collecting Pillow (from sentence_transformers)\n",
      "  Using cached pillow-11.3.0-cp39-cp39-macosx_11_0_arm64.whl.metadata (9.0 kB)\n",
      "Requirement already satisfied: typing_extensions>=4.5.0 in /Users/Aksorn_AI/Desktop/RECOMENTATION_SYSTEM/.venv/lib/python3.9/site-packages (from sentence_transformers) (4.14.1)\n",
      "Collecting filelock (from transformers<5.0.0,>=4.41.0->sentence_transformers)\n",
      "  Using cached filelock-3.18.0-py3-none-any.whl.metadata (2.9 kB)\n",
      "Collecting numpy>=1.17 (from transformers<5.0.0,>=4.41.0->sentence_transformers)\n",
      "  Using cached numpy-2.0.2-cp39-cp39-macosx_14_0_arm64.whl.metadata (60 kB)\n",
      "Requirement already satisfied: packaging>=20.0 in /Users/Aksorn_AI/Desktop/RECOMENTATION_SYSTEM/.venv/lib/python3.9/site-packages (from transformers<5.0.0,>=4.41.0->sentence_transformers) (25.0)\n",
      "Collecting pyyaml>=5.1 (from transformers<5.0.0,>=4.41.0->sentence_transformers)\n",
      "  Using cached PyYAML-6.0.2-cp39-cp39-macosx_11_0_arm64.whl.metadata (2.1 kB)\n",
      "Collecting regex!=2019.12.17 (from transformers<5.0.0,>=4.41.0->sentence_transformers)\n",
      "  Using cached regex-2024.11.6-cp39-cp39-macosx_11_0_arm64.whl.metadata (40 kB)\n",
      "Collecting requests (from transformers<5.0.0,>=4.41.0->sentence_transformers)\n",
      "  Using cached requests-2.32.4-py3-none-any.whl.metadata (4.9 kB)\n",
      "Collecting tokenizers<0.22,>=0.21 (from transformers<5.0.0,>=4.41.0->sentence_transformers)\n",
      "  Using cached tokenizers-0.21.2-cp39-abi3-macosx_11_0_arm64.whl.metadata (6.8 kB)\n",
      "Collecting safetensors>=0.4.3 (from transformers<5.0.0,>=4.41.0->sentence_transformers)\n",
      "  Using cached safetensors-0.5.3-cp38-abi3-macosx_11_0_arm64.whl.metadata (3.8 kB)\n",
      "Collecting fsspec>=2023.5.0 (from huggingface-hub>=0.20.0->sentence_transformers)\n",
      "  Using cached fsspec-2025.5.1-py3-none-any.whl.metadata (11 kB)\n",
      "Collecting hf-xet<2.0.0,>=1.1.2 (from huggingface-hub>=0.20.0->sentence_transformers)\n",
      "  Using cached hf_xet-1.1.5-cp37-abi3-macosx_11_0_arm64.whl.metadata (879 bytes)\n",
      "Collecting sympy>=1.13.3 (from torch>=1.11.0->sentence_transformers)\n",
      "  Using cached sympy-1.14.0-py3-none-any.whl.metadata (12 kB)\n",
      "Collecting networkx (from torch>=1.11.0->sentence_transformers)\n",
      "  Using cached networkx-3.2.1-py3-none-any.whl.metadata (5.2 kB)\n",
      "Collecting jinja2 (from torch>=1.11.0->sentence_transformers)\n",
      "  Using cached jinja2-3.1.6-py3-none-any.whl.metadata (2.9 kB)\n",
      "Collecting mpmath<1.4,>=1.1.0 (from sympy>=1.13.3->torch>=1.11.0->sentence_transformers)\n",
      "  Using cached mpmath-1.3.0-py3-none-any.whl.metadata (8.6 kB)\n",
      "Collecting MarkupSafe>=2.0 (from jinja2->torch>=1.11.0->sentence_transformers)\n",
      "  Using cached MarkupSafe-3.0.2-cp39-cp39-macosx_11_0_arm64.whl.metadata (4.0 kB)\n",
      "Collecting charset_normalizer<4,>=2 (from requests->transformers<5.0.0,>=4.41.0->sentence_transformers)\n",
      "  Using cached charset_normalizer-3.4.2-cp39-cp39-macosx_10_9_universal2.whl.metadata (35 kB)\n",
      "Collecting idna<4,>=2.5 (from requests->transformers<5.0.0,>=4.41.0->sentence_transformers)\n",
      "  Using cached idna-3.10-py3-none-any.whl.metadata (10 kB)\n",
      "Collecting urllib3<3,>=1.21.1 (from requests->transformers<5.0.0,>=4.41.0->sentence_transformers)\n",
      "  Using cached urllib3-2.5.0-py3-none-any.whl.metadata (6.5 kB)\n",
      "Collecting certifi>=2017.4.17 (from requests->transformers<5.0.0,>=4.41.0->sentence_transformers)\n",
      "  Downloading certifi-2025.7.9-py3-none-any.whl.metadata (2.4 kB)\n",
      "Collecting joblib>=1.2.0 (from scikit-learn->sentence_transformers)\n",
      "  Using cached joblib-1.5.1-py3-none-any.whl.metadata (5.6 kB)\n",
      "Collecting threadpoolctl>=3.1.0 (from scikit-learn->sentence_transformers)\n",
      "  Using cached threadpoolctl-3.6.0-py3-none-any.whl.metadata (13 kB)\n",
      "Using cached sentence_transformers-5.0.0-py3-none-any.whl (470 kB)\n",
      "Downloading transformers-4.53.2-py3-none-any.whl (10.8 MB)\n",
      "\u001b[2K   \u001b[90m━━━━━━━━━━━━━━━━━━━━━━━━━━━━━━━━━━━━━━━━\u001b[0m \u001b[32m10.8/10.8 MB\u001b[0m \u001b[31m7.8 MB/s\u001b[0m eta \u001b[36m0:00:00\u001b[0m00:01\u001b[0m0:01\u001b[0m\n",
      "\u001b[?25hDownloading huggingface_hub-0.33.4-py3-none-any.whl (515 kB)\n",
      "Using cached hf_xet-1.1.5-cp37-abi3-macosx_11_0_arm64.whl (2.6 MB)\n",
      "Using cached tokenizers-0.21.2-cp39-abi3-macosx_11_0_arm64.whl (2.7 MB)\n",
      "Using cached fsspec-2025.5.1-py3-none-any.whl (199 kB)\n",
      "Using cached numpy-2.0.2-cp39-cp39-macosx_14_0_arm64.whl (5.3 MB)\n",
      "Using cached PyYAML-6.0.2-cp39-cp39-macosx_11_0_arm64.whl (172 kB)\n",
      "Using cached regex-2024.11.6-cp39-cp39-macosx_11_0_arm64.whl (284 kB)\n",
      "Using cached safetensors-0.5.3-cp38-abi3-macosx_11_0_arm64.whl (418 kB)\n",
      "Using cached torch-2.7.1-cp39-none-macosx_11_0_arm64.whl (68.6 MB)\n",
      "Using cached sympy-1.14.0-py3-none-any.whl (6.3 MB)\n",
      "Using cached mpmath-1.3.0-py3-none-any.whl (536 kB)\n",
      "Using cached tqdm-4.67.1-py3-none-any.whl (78 kB)\n",
      "Using cached filelock-3.18.0-py3-none-any.whl (16 kB)\n",
      "Using cached jinja2-3.1.6-py3-none-any.whl (134 kB)\n",
      "Using cached MarkupSafe-3.0.2-cp39-cp39-macosx_11_0_arm64.whl (12 kB)\n",
      "Using cached networkx-3.2.1-py3-none-any.whl (1.6 MB)\n",
      "Using cached pillow-11.3.0-cp39-cp39-macosx_11_0_arm64.whl (4.7 MB)\n",
      "Using cached requests-2.32.4-py3-none-any.whl (64 kB)\n",
      "Using cached charset_normalizer-3.4.2-cp39-cp39-macosx_10_9_universal2.whl (201 kB)\n",
      "Using cached idna-3.10-py3-none-any.whl (70 kB)\n",
      "Using cached urllib3-2.5.0-py3-none-any.whl (129 kB)\n",
      "Downloading certifi-2025.7.9-py3-none-any.whl (159 kB)\n",
      "Using cached scikit_learn-1.6.1-cp39-cp39-macosx_12_0_arm64.whl (11.1 MB)\n",
      "Using cached joblib-1.5.1-py3-none-any.whl (307 kB)\n",
      "Using cached scipy-1.13.1-cp39-cp39-macosx_12_0_arm64.whl (30.3 MB)\n",
      "Using cached threadpoolctl-3.6.0-py3-none-any.whl (18 kB)\n",
      "Installing collected packages: mpmath, urllib3, tqdm, threadpoolctl, sympy, safetensors, regex, pyyaml, Pillow, numpy, networkx, MarkupSafe, joblib, idna, hf-xet, fsspec, filelock, charset_normalizer, certifi, scipy, requests, jinja2, torch, scikit-learn, huggingface-hub, tokenizers, transformers, sentence_transformers\n",
      "\u001b[2K   \u001b[90m━━━━━━━━━━━━━━━━━━━━━━━━━━━━━━━━━━━━━━━━\u001b[0m \u001b[32m28/28\u001b[0m [sentence_transformers]ence_transformers]\n",
      "\u001b[1A\u001b[2KSuccessfully installed MarkupSafe-3.0.2 Pillow-11.3.0 certifi-2025.7.9 charset_normalizer-3.4.2 filelock-3.18.0 fsspec-2025.5.1 hf-xet-1.1.5 huggingface-hub-0.33.4 idna-3.10 jinja2-3.1.6 joblib-1.5.1 mpmath-1.3.0 networkx-3.2.1 numpy-2.0.2 pyyaml-6.0.2 regex-2024.11.6 requests-2.32.4 safetensors-0.5.3 scikit-learn-1.6.1 scipy-1.13.1 sentence_transformers-5.0.0 sympy-1.14.0 threadpoolctl-3.6.0 tokenizers-0.21.2 torch-2.7.1 tqdm-4.67.1 transformers-4.53.2 urllib3-2.5.0\n"
     ]
    }
   ],
   "source": [
    "!pip install sentence_transformers"
   ]
  },
  {
   "cell_type": "code",
   "execution_count": 4,
   "id": "ea8d7b9a",
   "metadata": {},
   "outputs": [
    {
     "name": "stdout",
     "output_type": "stream",
     "text": [
      "(768,)\n"
     ]
    }
   ],
   "source": [
    "from sentence_transformers import SentenceTransformer\n",
    "\n",
    "# โหลด model (รองรับภาษาไทยดี)\n",
    "embedder = SentenceTransformer('intfloat/multilingual-e5-base')\n",
    "\n",
    "# ทดลอง encode ประโยคไทย\n",
    "query = \"ประเทศไทยมีฤดูอะไรบ้าง\"\n",
    "embedding = embedder.encode(query)\n",
    "print(embedding.shape)  # (768,)"
   ]
  },
  {
   "cell_type": "code",
   "execution_count": 5,
   "id": "2634603c",
   "metadata": {},
   "outputs": [
    {
     "name": "stdout",
     "output_type": "stream",
     "text": [
      "[ 2.52739433e-02  5.13024442e-02 -1.17786368e-02  2.93399207e-02\n",
      "  6.75109588e-03 -6.53337762e-02  3.57203744e-03 -2.88161915e-02\n",
      "  1.51876714e-02  4.74918112e-02 -1.79744437e-02  3.36061530e-02\n",
      "  1.94713175e-01  4.59922701e-02 -2.26242300e-02 -5.30510284e-02\n",
      "  3.33735235e-02 -1.30617507e-02  3.34122255e-02 -4.32067290e-02\n",
      "  3.61484364e-02 -4.16711606e-02  7.90533796e-02 -4.33654860e-02\n",
      "  1.23768831e-02 -1.44666154e-02  3.97736803e-02  1.59069840e-02\n",
      "  7.19714584e-03  5.60895465e-02  2.73992717e-02 -8.34322348e-03\n",
      "  4.13442496e-03  3.03700771e-02  1.67348776e-02  4.50763963e-02\n",
      " -4.04911675e-02  7.27845589e-03  9.27526969e-04  4.73230071e-02\n",
      "  1.61892979e-03 -2.63427235e-02  3.03601064e-02 -1.77505296e-02\n",
      "  1.66424830e-02 -2.73626540e-02  4.81579974e-02 -7.30292592e-03\n",
      " -1.56282389e-03 -1.00615807e-02  7.10098818e-03 -1.84716955e-02\n",
      "  3.48029025e-02 -1.05840657e-02 -5.90688288e-02  5.82136773e-03\n",
      "  1.82612073e-02  5.13964966e-02 -2.13188771e-02  2.35915314e-02\n",
      "  4.34480272e-02  7.15577304e-02  2.17207037e-02  5.22328913e-03\n",
      "  6.38278797e-02  3.88760120e-04 -3.30075226e-03 -3.16934995e-02\n",
      " -3.70075218e-02 -2.65963096e-02 -2.54988298e-02 -2.33679749e-02\n",
      "  6.35774657e-02 -6.83901506e-03 -5.90410307e-02 -1.10410182e-02\n",
      " -3.04446928e-02  5.46352332e-03 -1.84936598e-02 -5.41524552e-02\n",
      "  3.84158269e-02  3.22337658e-03  2.65729167e-02  6.02665404e-03\n",
      " -7.42951827e-03 -1.92364696e-02 -3.48534659e-02  3.17272544e-02\n",
      "  2.69274897e-04  3.35424207e-02  4.92342040e-02 -5.79297096e-02\n",
      " -7.70445913e-03  6.52723536e-02  3.28319035e-02  1.60544962e-02\n",
      " -6.61252020e-03  1.56647107e-03  1.63358655e-02 -3.79175879e-02\n",
      " -2.79953983e-02 -1.17462121e-01 -1.32974726e-03 -1.12035396e-02\n",
      " -6.93163946e-02  7.90509768e-03 -4.00362648e-02 -1.66554190e-02\n",
      "  4.76923883e-02  9.78781842e-03  3.10246996e-03  3.89156342e-02\n",
      "  3.62453684e-02 -1.69629660e-02  5.95110562e-03 -1.66992601e-02\n",
      " -4.45907266e-04 -2.94786524e-02 -1.55809801e-02 -6.65293857e-02\n",
      " -2.18218565e-02  2.75770891e-02 -1.48619004e-02 -1.38495192e-02\n",
      "  3.06064021e-02 -2.20532771e-02  2.93989871e-02 -4.08320837e-02\n",
      "  1.81561764e-02 -3.17845047e-02  1.46191251e-02 -4.71068881e-02\n",
      "  1.80235840e-02  9.80231445e-03 -2.63341535e-02  5.65789007e-02\n",
      "  3.06130294e-02  3.57657485e-02 -4.04865555e-02  7.63975875e-03\n",
      "  1.18496306e-02 -5.79067729e-02  5.37967589e-03  8.43860060e-02\n",
      "  1.47798499e-02 -5.27795590e-02  5.31977117e-02 -2.77140439e-02\n",
      "  1.46716023e-02  4.83510271e-02  7.99815264e-03 -6.92962483e-02\n",
      " -1.73520502e-02 -1.08294543e-02  9.61699896e-03  3.19699361e-03\n",
      " -8.43362063e-02 -1.85308307e-02 -9.19416733e-03  2.02022847e-02\n",
      "  1.05973361e-02  1.29742576e-02 -8.16450734e-03 -1.31331861e-03\n",
      "  3.10534816e-02 -6.80821342e-03 -2.65970565e-02  1.95375029e-02\n",
      " -1.95496231e-02 -2.71683224e-02 -1.33019183e-02 -3.71829867e-02\n",
      " -4.73215431e-02  1.71351563e-02  1.18994256e-02 -1.08758174e-02\n",
      " -1.24262208e-02 -3.89103517e-02 -6.12607040e-02 -9.08829346e-02\n",
      " -2.11961679e-02 -2.75580026e-02 -6.07588142e-03  3.48686725e-02\n",
      "  2.33256966e-02 -7.01045291e-03 -1.73082352e-02 -4.41541299e-02\n",
      "  3.05270068e-02 -2.76035699e-03 -7.18830014e-03  4.39499654e-02\n",
      "  2.28171106e-02  4.38072486e-03  2.21284144e-02  3.50583382e-02\n",
      " -1.99042330e-03  1.52217085e-03 -1.57606844e-02 -2.49435920e-02\n",
      "  3.11238971e-02  1.06036700e-02  5.61312661e-02  4.37900424e-02\n",
      "  1.43388882e-02 -5.19641861e-02 -6.65298896e-03  2.81121284e-02\n",
      "  1.19355619e-02  4.52268943e-02 -8.34805239e-03  5.51271662e-02\n",
      " -3.42890210e-02  2.58443020e-02 -9.54587199e-03 -3.61144096e-02\n",
      "  3.64680961e-02  2.28315238e-02 -4.96699996e-02  4.76849824e-02\n",
      "  4.79525328e-02 -6.25427365e-02  1.77532434e-02  1.58047304e-02\n",
      "  1.25442725e-03 -1.37585048e-02  2.89915595e-02 -1.22425472e-02\n",
      " -5.42637380e-03  1.47515945e-02  2.03300118e-02  7.68797426e-03\n",
      " -1.75277404e-02  3.53422016e-02  1.56592776e-03  2.27450710e-02\n",
      "  6.00263998e-02 -9.63970646e-03 -1.69918053e-02 -7.61001930e-02\n",
      " -2.92424187e-02  6.06909059e-02  2.77909189e-02 -4.69515994e-02\n",
      " -1.02834227e-02 -2.12964974e-02 -5.74425161e-02  4.59737591e-02\n",
      " -7.62576163e-02  3.01865619e-02  2.09621508e-02 -2.91245487e-02\n",
      "  1.57535132e-02 -3.89326774e-02  3.13114678e-03 -3.17830928e-02\n",
      " -1.94555875e-02  1.41408704e-02 -2.42773676e-03 -1.58939715e-02\n",
      "  2.32860111e-02 -3.69170234e-02 -1.25066540e-03 -4.42994423e-02\n",
      " -1.66645274e-02  8.13166052e-03  2.72557549e-02 -4.77220938e-02\n",
      " -5.20900562e-02 -3.43448808e-03 -4.09151167e-02 -1.28096463e-02\n",
      " -3.17683257e-02  4.41483259e-02  2.89039947e-02 -4.06346731e-02\n",
      " -5.61017357e-02  2.41740756e-02 -4.00985479e-02 -3.76589298e-02\n",
      " -9.08136182e-03  1.21362032e-02 -2.38952655e-02 -3.83567624e-02\n",
      " -1.18443323e-02  3.83653976e-02 -8.02543759e-02 -1.05724251e-03\n",
      " -7.19935488e-05 -1.10960111e-03  5.76936156e-02  6.68428615e-02\n",
      "  2.59076040e-02  4.28368412e-02  4.45617139e-02  4.26185839e-02\n",
      "  3.57116610e-02 -7.55311968e-03 -1.53686808e-04 -2.53198873e-02\n",
      " -4.63637523e-03 -4.09727655e-02  3.38630527e-02 -5.70411049e-02\n",
      " -6.38960004e-02  3.25610638e-02  1.28928691e-01  2.86458768e-02\n",
      " -1.01589464e-01  3.09623666e-02  9.88153834e-03 -2.54483856e-02\n",
      " -3.43709327e-02  7.89011922e-03  2.11522505e-02 -4.94932607e-02\n",
      " -1.86782312e-02  5.05795330e-02  1.58072878e-02  4.95330617e-02\n",
      "  7.48984423e-03  3.42731923e-02 -2.93556834e-03 -7.30961338e-02\n",
      "  6.16596304e-02  7.24718440e-03  4.87956852e-02 -1.97989959e-02\n",
      "  6.29790425e-02  8.40677228e-03 -1.06116068e-02  8.48596729e-03\n",
      " -2.75921877e-02  2.19376814e-02 -4.29558866e-02 -1.53674046e-02\n",
      " -4.55527194e-02 -3.52388732e-02  9.85381678e-02  3.29245180e-02\n",
      " -2.46675760e-02  6.13126904e-02 -1.59287993e-02  1.65708587e-02\n",
      "  1.33784330e-02 -4.80181091e-02 -2.09582727e-02 -1.40375330e-03\n",
      " -3.10188234e-02 -4.50068666e-03 -5.53784287e-03 -1.04208082e-01\n",
      "  2.17437483e-02 -1.27984723e-03  1.31050944e-02  5.33115771e-03\n",
      "  2.18052678e-02 -3.03759165e-02 -1.77165177e-02 -1.68288499e-02\n",
      " -7.17853680e-02  2.51689516e-02  1.07562924e-02 -1.11868475e-02\n",
      "  2.47614030e-02  3.72369811e-02 -7.76313841e-02 -5.70350215e-02\n",
      "  5.59540186e-03  3.35377222e-03  9.21226144e-02  4.88961861e-02\n",
      " -1.76575128e-02 -2.23442540e-03  1.71426721e-02 -2.09633578e-02\n",
      "  2.43580472e-02 -6.24874309e-02 -2.39679287e-03  2.57267021e-02\n",
      "  1.11695314e-02  1.47941150e-03  5.86373135e-02  3.74152586e-02\n",
      " -3.96588892e-02  4.31429781e-02 -5.53922821e-03 -2.59785913e-02\n",
      "  6.19603954e-02  2.41847523e-02  5.11911698e-02  1.07901087e-02\n",
      " -2.50564590e-02  3.46073732e-02  6.40547127e-02 -3.38487094e-03\n",
      "  3.41451876e-02 -1.66917536e-02  4.09376137e-02 -5.12966551e-02\n",
      "  1.31722474e-02  1.49159748e-02  1.42773399e-02  3.27553935e-02\n",
      "  5.82693405e-02  1.02364402e-02  4.68825437e-02  1.45259984e-02\n",
      " -5.61765097e-02 -1.30329784e-02  2.51571219e-02  7.35412177e-05\n",
      "  3.86016034e-02  8.99071619e-03 -9.58024524e-04  3.28967255e-03\n",
      "  2.58817733e-03  5.20593897e-02  2.98949983e-02 -4.79352893e-03\n",
      " -2.93992390e-03  2.58188713e-02  1.61767621e-02 -1.25694061e-02\n",
      "  2.61740759e-02 -4.64159139e-02  1.81334950e-02 -1.39467865e-02\n",
      "  1.84150636e-02 -2.93087843e-03 -3.55537236e-03  3.32574695e-02\n",
      "  1.04178404e-02 -6.17330312e-04 -1.46920653e-02 -4.38088253e-02\n",
      "  2.31194030e-02  3.58017236e-02 -2.89831776e-02  5.01532555e-02\n",
      " -4.01021093e-02 -4.37213369e-02  1.41193275e-03 -4.77102920e-02\n",
      "  2.14074459e-03  1.80485081e-02 -5.06574176e-02 -7.37615570e-04\n",
      " -5.47185838e-02 -3.36783975e-02  1.34312883e-02  9.78057366e-03\n",
      "  7.86971860e-03 -2.68264469e-02  3.59518863e-02 -4.81880158e-02\n",
      "  4.81168404e-02 -2.98676249e-02 -2.02163961e-03 -1.49925038e-01\n",
      "  4.63662222e-02  3.85759696e-02  8.68970994e-03 -5.58242854e-03\n",
      "  9.14221816e-03 -7.03842640e-02  4.47329655e-02 -5.91813363e-02\n",
      "  4.47236747e-02 -7.16575468e-03 -4.36761677e-02 -2.03071721e-02\n",
      "  2.40539424e-02  1.30062075e-02  7.96543714e-03  1.77335385e-02\n",
      "  3.06438422e-03 -2.40961392e-03  9.29979235e-02 -3.31697501e-02\n",
      "  1.39846178e-02 -1.10242339e-02 -4.53732163e-03  4.08312380e-02\n",
      "  1.17275976e-02 -1.70643348e-02 -8.05169046e-02  2.76127849e-02\n",
      "  3.02131809e-02  1.65695734e-02 -1.47154555e-02  2.50180047e-02\n",
      " -1.13573903e-02  6.82289712e-03 -3.26148397e-03  4.73516956e-02\n",
      " -6.49361685e-03 -6.97197914e-02  5.30698635e-02  5.21810278e-02\n",
      " -3.00055277e-02 -6.99551357e-03 -4.23940979e-02  5.26016345e-03\n",
      " -9.99212451e-03  5.88179752e-03 -6.02122257e-03  1.14990780e-02\n",
      "  2.90732668e-03 -2.10582111e-02  8.50454196e-02 -5.03216684e-02\n",
      "  4.39119618e-03 -4.75292206e-02 -1.57340448e-02  5.15237190e-02\n",
      "  4.08916548e-03  2.67406888e-02 -7.86275882e-03 -6.52806601e-03\n",
      " -3.43860760e-02  2.08472442e-02 -5.05662821e-02 -2.56425347e-02\n",
      "  2.42458805e-02 -1.71980690e-02  1.35850185e-03  1.89108718e-02\n",
      "  2.99695823e-02 -5.42099997e-02  3.26684415e-02 -4.98520918e-02\n",
      "  3.71282287e-02 -6.64529353e-02 -8.46595466e-02  1.12746768e-02\n",
      " -1.61520317e-02 -1.28916102e-02  2.27493439e-02 -2.53463686e-02\n",
      "  8.77167549e-05 -1.09110205e-02  4.72254446e-03 -4.25331071e-02\n",
      "  6.80491105e-02 -1.92227010e-02 -3.72991664e-03 -1.40419053e-02\n",
      "  4.69540339e-03 -1.29758276e-03  4.21984047e-02  2.59009004e-02\n",
      " -3.29316668e-02  3.93318906e-02 -2.87916362e-02  2.63031740e-02\n",
      "  1.40932035e-02 -1.84422643e-05  7.78779434e-03 -1.70594305e-02\n",
      "  2.13452429e-02 -6.82494044e-02  1.89906433e-02  2.07963884e-02\n",
      " -1.50504783e-02  8.97575635e-03  1.18633022e-03 -1.96398403e-02\n",
      " -4.72491868e-02  6.45645261e-02 -2.78513692e-02  4.72879559e-02\n",
      "  1.11162830e-02  1.43881552e-02  6.11418895e-02  6.06586635e-02\n",
      " -1.77412052e-02 -2.30254717e-02  2.53509935e-02 -3.45787071e-02\n",
      "  1.82758383e-02 -1.74925309e-02 -3.24631743e-02  1.52124409e-02\n",
      "  1.87357664e-02  2.48867311e-02  5.60384709e-03  1.57861896e-02\n",
      " -1.97733179e-01 -6.73213368e-03 -2.15784293e-02 -3.40263359e-02\n",
      "  1.05841793e-02  5.39963208e-02  1.99825633e-02 -3.68934460e-02\n",
      "  1.85776558e-02  2.46226285e-02  1.22389002e-02  6.89567486e-03\n",
      "  3.28144841e-02 -3.94602912e-03 -3.37173827e-02 -1.18645129e-03\n",
      "  1.98433846e-02 -4.42948267e-02  2.09850278e-02 -2.59310985e-03\n",
      " -1.57934073e-02  8.09002146e-02 -3.91547754e-02  1.92576889e-02\n",
      " -4.86933850e-02 -1.93742253e-02 -1.41870277e-02  1.06758438e-02\n",
      "  2.34159660e-02  2.35791355e-02  2.44778562e-02  2.91312113e-02\n",
      "  3.22421305e-02  1.77382473e-02 -2.64112130e-02  3.73929068e-02\n",
      " -3.11868005e-02  2.56417245e-02 -3.78170423e-02  3.24123576e-02\n",
      " -6.25487370e-03 -4.32830900e-02 -2.14204062e-02  1.69681143e-02\n",
      " -3.11483606e-03  5.60404621e-02  6.19601319e-03  4.22259830e-02\n",
      " -2.96925586e-02 -7.83238336e-02  1.51653420e-02  8.91148951e-03\n",
      " -1.01251706e-01 -1.25810001e-02 -3.50385457e-02  3.38431187e-02\n",
      "  3.03851292e-02  7.12714344e-02  2.41439380e-02  1.20406887e-02\n",
      "  3.29662077e-02  1.75023079e-02 -6.30670190e-02  2.14583781e-02\n",
      " -6.07790612e-02 -4.21798937e-02  4.74144630e-02 -1.31495157e-02\n",
      " -4.51204330e-02 -1.66966009e-03  3.64807397e-02 -1.31236820e-03\n",
      "  9.39820148e-03  2.52623465e-02  7.30438484e-03 -4.79692081e-03\n",
      "  1.31375052e-03 -1.57339182e-02 -6.08208440e-02  3.33406194e-03\n",
      " -1.58296563e-02 -3.72588597e-02 -1.28059657e-02  1.25158560e-02\n",
      " -4.87618074e-02 -1.33831371e-02 -3.35115902e-02 -2.78843474e-02\n",
      "  2.14743651e-02  5.53536750e-02 -1.22175207e-02 -1.87698454e-02\n",
      "  3.13886218e-02 -1.43971574e-02  5.29566891e-02 -3.59257385e-02\n",
      " -4.19399701e-02  2.43307091e-02 -2.87542064e-02 -5.20077161e-02\n",
      "  1.72843821e-02  5.88224037e-03 -3.48834395e-02  3.59215513e-02\n",
      "  6.58430383e-02 -5.29317893e-02 -9.32208672e-02  1.40695814e-02\n",
      " -2.17529922e-03 -2.08705831e-02  2.95251496e-02  4.26103324e-02\n",
      "  2.61300448e-02 -1.83323361e-02  4.98556159e-03 -2.94086291e-03\n",
      "  2.71985419e-02 -4.50104177e-02 -5.07641435e-02 -4.21397500e-02\n",
      " -1.70010738e-02 -2.03287676e-02  3.43500599e-02  5.10880630e-03\n",
      "  4.24079522e-02 -1.29150497e-02 -1.73398443e-02  2.00513043e-02\n",
      "  7.46478932e-03  2.21360214e-02 -3.31895500e-02 -2.44460665e-02\n",
      "  2.42237113e-02 -1.64518021e-02 -3.72030959e-02  2.54221931e-02\n",
      "  2.25207806e-02 -9.19336453e-03  2.77566444e-02  3.05442270e-02\n",
      "  1.95986126e-02 -6.55854866e-02 -5.30955419e-02  2.32566074e-02\n",
      " -1.77990384e-02  2.51875445e-02  8.60948861e-03 -1.71926878e-02\n",
      "  4.09515314e-02  2.02385653e-02 -2.13681906e-02 -8.26653093e-02\n",
      " -5.01501001e-03 -2.18909550e-02  1.46027347e-02  3.05075124e-02\n",
      "  7.52655556e-03  3.74689209e-03  8.62871297e-03 -3.49664572e-03\n",
      " -4.84238891e-03 -1.53793273e-02  9.96969175e-03  3.07281353e-02\n",
      "  3.19073834e-02  2.65873503e-02 -2.36843489e-02 -3.87679003e-02\n",
      " -1.78344417e-02  1.33975362e-02 -1.84764247e-02  6.75060693e-03\n",
      " -1.31721823e-02  1.78263849e-03 -7.97789893e-04 -4.87446301e-02\n",
      "  1.71933218e-03 -2.45871451e-02 -3.52359489e-02  4.06036600e-02]\n"
     ]
    }
   ],
   "source": [
    "print(embedding)"
   ]
  },
  {
   "cell_type": "markdown",
   "id": "6332e3fb",
   "metadata": {},
   "source": [
    "prepare chunk"
   ]
  },
  {
   "cell_type": "code",
   "execution_count": null,
   "id": "a67ffce7",
   "metadata": {},
   "outputs": [
    {
     "name": "stdout",
     "output_type": "stream",
     "text": [
      "page_content='1. การตรวจทางเวชศาสตร์นิวเคลียร์\n",
      "\n",
      "1.1 การเตรียมสารเภสัชรังสี  หรือ Hot lab : ทุกเคสการตรวจ ก่อนคำนวนสารเภสัชรังสีต้องดูน้ำหนักของคนไข้ก่อน ซึ่งแต่ละเคสการตรวจสามาถแบ่งตามชื่อการตรวจได้ดังนี้\n",
      "1.1.1) การตรวจ Parathyroid ใช้สารเภสัชรังสีเทคนีเชียม(Tco4-MIBI) ปริมาณ 20 mCi \n",
      "1.1.2) การตรวจ  BONE ใช้สารเภสัชรังสีเทคนีเชียม(Tco4-MDP) ปริมาณ 20 mCi สำหรับหมอส่วนใหญ่\n",
      "ใช้ปริมาณนี้กับคนไข้ทุกคน  ยกเว้นหมอสมพรที่ใช้สารเภสัชรังสีเทคนีเชียม(Tco4-MDP) ปริมาณ 15 mCi  \n",
      "ข้อควรระวัง: ในเคสการตรวจ  BONE สำหรับเด็กอายุต่ำกว่า 18 ปี ต้องเตรียมสารเภสัชรังสีเทคนีเชียม(Tco4-MDP)  โดยการคำนวนปริมาณสารเภสัชรังสีตามน้ำหนักเท่านั้น\n",
      "' metadata={'source': 'data/hotlab-v1.txt', 'filename': 'hotlab-v1.txt', 'topic': 'การตรวจทางเวชศาสตร์นิวเคลียร์', 'sub-topic': 'การเตรียมสารเภสัชรังสี  หรือ Hot lab', 'chunk_id': 1}\n"
     ]
    }
   ],
   "source": [
    "# import re\n",
    "# from langchain.schema import Document\n",
    "\n",
    "# with open('data/hotlab-v1.txt', 'r', encoding='utf8') as f:\n",
    "#     raw_text = f.read()\n",
    "\n",
    "# # หา topic\n",
    "# topic_match = re.search(r'^\\d+\\.\\s+(.+)', raw_text, re.MULTILINE)\n",
    "# topic = topic_match.group(1).strip() if topic_match else None\n",
    "\n",
    "# # หา sub-topic ที่ไม่มีจุดต่อท้ายเลข\n",
    "# sub_topic_match = re.search(r'^\\d+\\.\\d+\\s+(.+?):', raw_text, re.MULTILINE)\n",
    "# sub_topic = sub_topic_match.group(1).strip() if sub_topic_match else None\n",
    "\n",
    "# documents = Document(\n",
    "#         page_content=raw_text,\n",
    "#         metadata={\n",
    "#             \"source\": \"data/hotlab-v1.txt\",\n",
    "#             \"filename\": \"hotlab-v1.txt\",\n",
    "#             \"topic\": topic,\n",
    "#             \"sub-topic\": sub_topic,\n",
    "#             \"chunk_id\": 1\n",
    "#         }\n",
    "# )\n",
    "\n",
    "# print(documents)\n"
   ]
  },
  {
   "cell_type": "code",
   "execution_count": 22,
   "id": "7b4fb342",
   "metadata": {},
   "outputs": [
    {
     "name": "stdout",
     "output_type": "stream",
     "text": [
      "1. การตรวจทางเวชศาสตร์นิวเคลียร์\n",
      "\n",
      "1.1 การเตรียมสารเภสัชรังสี  หรือ Hot lab : ทุกเคสการตรวจ ก่อนคำนวนสารเภสัชรังสีต้องดูน้ำหนักของคนไข้ก่อน ซึ่งแต่ละเคสการตรวจสามาถแบ่งตามชื่อการตรวจได้ดังนี้\n",
      "1.1.1) การตรวจ Parathyroid ใช้สารเภสัชรังสีเทคนีเชียม(Tco4-MIBI) ปริมาณ 20 mCi \n",
      "1.1.2) การตรวจ  BONE ใช้สารเภสัชรังสีเทคนีเชียม(Tco4-MDP) ปริมาณ 20 mCi สำหรับหมอส่วนใหญ่\n",
      "ใช้ปริมาณนี้กับคนไข้ทุกคน  ยกเว้นหมอสมพรที่ใช้สารเภสัชรังสีเทคนีเชียม(Tco4-MDP) ปริมาณ 15 mCi  \n",
      "ข้อควรระวัง: ในเคสการตรวจ  BONE สำหรับเด็กอายุต่ำกว่า 18 ปี ต้องเตรียมสารเภสัชรังสีเทคนีเชียม(Tco4-MDP)  โดยการคำนวนปริมาณสารเภสัชรังสีตามน้ำหนักเท่านั้น\n",
      "\n"
     ]
    }
   ],
   "source": [
    "print(documents.page_content)"
   ]
  },
  {
   "cell_type": "code",
   "execution_count": 24,
   "id": "f035b811",
   "metadata": {},
   "outputs": [
    {
     "data": {
      "text/plain": [
       "{'source': 'data/hotlab-v1.txt',\n",
       " 'filename': 'hotlab-v1.txt',\n",
       " 'topic': 'การตรวจทางเวชศาสตร์นิวเคลียร์',\n",
       " 'sub-topic': 'การเตรียมสารเภสัชรังสี  หรือ Hot lab',\n",
       " 'chunk_id': 1}"
      ]
     },
     "execution_count": 24,
     "metadata": {},
     "output_type": "execute_result"
    }
   ],
   "source": [
    "documents.metadata"
   ]
  },
  {
   "cell_type": "markdown",
   "id": "98e4e18c",
   "metadata": {},
   "source": [
    "chunk split (more data)"
   ]
  },
  {
   "cell_type": "code",
   "execution_count": 7,
   "id": "6fc1743d",
   "metadata": {},
   "outputs": [
    {
     "name": "stderr",
     "output_type": "stream",
     "text": [
      "huggingface/tokenizers: The current process just got forked, after parallelism has already been used. Disabling parallelism to avoid deadlocks...\n",
      "To disable this warning, you can either:\n",
      "\t- Avoid using `tokenizers` before the fork if possible\n",
      "\t- Explicitly set the environment variable TOKENIZERS_PARALLELISM=(true | false)\n"
     ]
    },
    {
     "name": "stdout",
     "output_type": "stream",
     "text": [
      "Collecting langchain\n",
      "  Using cached langchain-0.3.26-py3-none-any.whl.metadata (7.8 kB)\n",
      "Collecting langchain-core<1.0.0,>=0.3.66 (from langchain)\n",
      "  Using cached langchain_core-0.3.68-py3-none-any.whl.metadata (5.8 kB)\n",
      "Collecting langchain-text-splitters<1.0.0,>=0.3.8 (from langchain)\n",
      "  Using cached langchain_text_splitters-0.3.8-py3-none-any.whl.metadata (1.9 kB)\n",
      "Collecting langsmith>=0.1.17 (from langchain)\n",
      "  Downloading langsmith-0.4.5-py3-none-any.whl.metadata (15 kB)\n",
      "Collecting pydantic<3.0.0,>=2.7.4 (from langchain)\n",
      "  Using cached pydantic-2.11.7-py3-none-any.whl.metadata (67 kB)\n",
      "Collecting SQLAlchemy<3,>=1.4 (from langchain)\n",
      "  Using cached sqlalchemy-2.0.41-cp39-cp39-macosx_11_0_arm64.whl.metadata (9.6 kB)\n",
      "Requirement already satisfied: requests<3,>=2 in /Users/Aksorn_AI/Desktop/RECOMENTATION_SYSTEM/.venv/lib/python3.9/site-packages (from langchain) (2.32.4)\n",
      "Requirement already satisfied: PyYAML>=5.3 in /Users/Aksorn_AI/Desktop/RECOMENTATION_SYSTEM/.venv/lib/python3.9/site-packages (from langchain) (6.0.2)\n",
      "Collecting async-timeout<5.0.0,>=4.0.0 (from langchain)\n",
      "  Using cached async_timeout-4.0.3-py3-none-any.whl.metadata (4.2 kB)\n",
      "Collecting tenacity!=8.4.0,<10.0.0,>=8.1.0 (from langchain-core<1.0.0,>=0.3.66->langchain)\n",
      "  Using cached tenacity-9.1.2-py3-none-any.whl.metadata (1.2 kB)\n",
      "Collecting jsonpatch<2.0,>=1.33 (from langchain-core<1.0.0,>=0.3.66->langchain)\n",
      "  Using cached jsonpatch-1.33-py2.py3-none-any.whl.metadata (3.0 kB)\n",
      "Collecting packaging<25,>=23.2 (from langchain-core<1.0.0,>=0.3.66->langchain)\n",
      "  Using cached packaging-24.2-py3-none-any.whl.metadata (3.2 kB)\n",
      "Requirement already satisfied: typing-extensions>=4.7 in /Users/Aksorn_AI/Desktop/RECOMENTATION_SYSTEM/.venv/lib/python3.9/site-packages (from langchain-core<1.0.0,>=0.3.66->langchain) (4.14.1)\n",
      "Collecting jsonpointer>=1.9 (from jsonpatch<2.0,>=1.33->langchain-core<1.0.0,>=0.3.66->langchain)\n",
      "  Using cached jsonpointer-3.0.0-py2.py3-none-any.whl.metadata (2.3 kB)\n",
      "Collecting annotated-types>=0.6.0 (from pydantic<3.0.0,>=2.7.4->langchain)\n",
      "  Using cached annotated_types-0.7.0-py3-none-any.whl.metadata (15 kB)\n",
      "Collecting pydantic-core==2.33.2 (from pydantic<3.0.0,>=2.7.4->langchain)\n",
      "  Using cached pydantic_core-2.33.2-cp39-cp39-macosx_11_0_arm64.whl.metadata (6.8 kB)\n",
      "Collecting typing-inspection>=0.4.0 (from pydantic<3.0.0,>=2.7.4->langchain)\n",
      "  Using cached typing_inspection-0.4.1-py3-none-any.whl.metadata (2.6 kB)\n",
      "Requirement already satisfied: charset_normalizer<4,>=2 in /Users/Aksorn_AI/Desktop/RECOMENTATION_SYSTEM/.venv/lib/python3.9/site-packages (from requests<3,>=2->langchain) (3.4.2)\n",
      "Requirement already satisfied: idna<4,>=2.5 in /Users/Aksorn_AI/Desktop/RECOMENTATION_SYSTEM/.venv/lib/python3.9/site-packages (from requests<3,>=2->langchain) (3.10)\n",
      "Requirement already satisfied: urllib3<3,>=1.21.1 in /Users/Aksorn_AI/Desktop/RECOMENTATION_SYSTEM/.venv/lib/python3.9/site-packages (from requests<3,>=2->langchain) (2.5.0)\n",
      "Requirement already satisfied: certifi>=2017.4.17 in /Users/Aksorn_AI/Desktop/RECOMENTATION_SYSTEM/.venv/lib/python3.9/site-packages (from requests<3,>=2->langchain) (2025.7.9)\n",
      "Collecting httpx<1,>=0.23.0 (from langsmith>=0.1.17->langchain)\n",
      "  Using cached httpx-0.28.1-py3-none-any.whl.metadata (7.1 kB)\n",
      "Collecting orjson<4.0.0,>=3.9.14 (from langsmith>=0.1.17->langchain)\n",
      "  Using cached orjson-3.10.18-cp39-cp39-macosx_10_15_x86_64.macosx_11_0_arm64.macosx_10_15_universal2.whl.metadata (41 kB)\n",
      "Collecting requests-toolbelt<2.0.0,>=1.0.0 (from langsmith>=0.1.17->langchain)\n",
      "  Using cached requests_toolbelt-1.0.0-py2.py3-none-any.whl.metadata (14 kB)\n",
      "Collecting zstandard<0.24.0,>=0.23.0 (from langsmith>=0.1.17->langchain)\n",
      "  Using cached zstandard-0.23.0-cp39-cp39-macosx_11_0_arm64.whl.metadata (3.0 kB)\n",
      "Collecting anyio (from httpx<1,>=0.23.0->langsmith>=0.1.17->langchain)\n",
      "  Using cached anyio-4.9.0-py3-none-any.whl.metadata (4.7 kB)\n",
      "Collecting httpcore==1.* (from httpx<1,>=0.23.0->langsmith>=0.1.17->langchain)\n",
      "  Using cached httpcore-1.0.9-py3-none-any.whl.metadata (21 kB)\n",
      "Collecting h11>=0.16 (from httpcore==1.*->httpx<1,>=0.23.0->langsmith>=0.1.17->langchain)\n",
      "  Using cached h11-0.16.0-py3-none-any.whl.metadata (8.3 kB)\n",
      "Requirement already satisfied: exceptiongroup>=1.0.2 in /Users/Aksorn_AI/Desktop/RECOMENTATION_SYSTEM/.venv/lib/python3.9/site-packages (from anyio->httpx<1,>=0.23.0->langsmith>=0.1.17->langchain) (1.3.0)\n",
      "Collecting sniffio>=1.1 (from anyio->httpx<1,>=0.23.0->langsmith>=0.1.17->langchain)\n",
      "  Using cached sniffio-1.3.1-py3-none-any.whl.metadata (3.9 kB)\n",
      "Using cached langchain-0.3.26-py3-none-any.whl (1.0 MB)\n",
      "Using cached async_timeout-4.0.3-py3-none-any.whl (5.7 kB)\n",
      "Using cached langchain_core-0.3.68-py3-none-any.whl (441 kB)\n",
      "Using cached jsonpatch-1.33-py2.py3-none-any.whl (12 kB)\n",
      "Using cached langchain_text_splitters-0.3.8-py3-none-any.whl (32 kB)\n",
      "Using cached packaging-24.2-py3-none-any.whl (65 kB)\n",
      "Using cached pydantic-2.11.7-py3-none-any.whl (444 kB)\n",
      "Using cached pydantic_core-2.33.2-cp39-cp39-macosx_11_0_arm64.whl (1.9 MB)\n",
      "Using cached sqlalchemy-2.0.41-cp39-cp39-macosx_11_0_arm64.whl (2.1 MB)\n",
      "Using cached tenacity-9.1.2-py3-none-any.whl (28 kB)\n",
      "Using cached annotated_types-0.7.0-py3-none-any.whl (13 kB)\n",
      "Using cached jsonpointer-3.0.0-py2.py3-none-any.whl (7.6 kB)\n",
      "Downloading langsmith-0.4.5-py3-none-any.whl (367 kB)\n",
      "Using cached httpx-0.28.1-py3-none-any.whl (73 kB)\n",
      "Using cached httpcore-1.0.9-py3-none-any.whl (78 kB)\n",
      "Using cached orjson-3.10.18-cp39-cp39-macosx_10_15_x86_64.macosx_11_0_arm64.macosx_10_15_universal2.whl (249 kB)\n",
      "Using cached requests_toolbelt-1.0.0-py2.py3-none-any.whl (54 kB)\n",
      "Using cached zstandard-0.23.0-cp39-cp39-macosx_11_0_arm64.whl (633 kB)\n",
      "Using cached h11-0.16.0-py3-none-any.whl (37 kB)\n",
      "Using cached typing_inspection-0.4.1-py3-none-any.whl (14 kB)\n",
      "Using cached anyio-4.9.0-py3-none-any.whl (100 kB)\n",
      "Using cached sniffio-1.3.1-py3-none-any.whl (10 kB)\n",
      "Installing collected packages: zstandard, typing-inspection, tenacity, SQLAlchemy, sniffio, pydantic-core, packaging, orjson, jsonpointer, h11, async-timeout, annotated-types, requests-toolbelt, pydantic, jsonpatch, httpcore, anyio, httpx, langsmith, langchain-core, langchain-text-splitters, langchain\n",
      "\u001b[2K  Attempting uninstall: packaging90m━━━━━━━━━━━━━━━━━━━━━━━━━━━━━━\u001b[0m \u001b[32m 5/22\u001b[0m [pydantic-core]\n",
      "\u001b[2K    Found existing installation: packaging 25.0━━━━━━━━━━━━━━━\u001b[0m \u001b[32m 5/22\u001b[0m [pydantic-core]\n",
      "\u001b[2K    Uninstalling packaging-25.0:━━━━━━━━━━━━━━━━━━━━━━━━━━━━━━\u001b[0m \u001b[32m 5/22\u001b[0m [pydantic-core]\n",
      "\u001b[2K      Successfully uninstalled packaging-25.0━━━━━━━━━━━━━━━━━\u001b[0m \u001b[32m 5/22\u001b[0m [pydantic-core]\n",
      "\u001b[2K   \u001b[90m━━━━━━━━━━━━━━━━━━━━━━━━━━━━━━━━━━━━━━━━\u001b[0m \u001b[32m22/22\u001b[0m [langchain]22\u001b[0m [langchain]core]\n",
      "\u001b[1A\u001b[2KSuccessfully installed SQLAlchemy-2.0.41 annotated-types-0.7.0 anyio-4.9.0 async-timeout-4.0.3 h11-0.16.0 httpcore-1.0.9 httpx-0.28.1 jsonpatch-1.33 jsonpointer-3.0.0 langchain-0.3.26 langchain-core-0.3.68 langchain-text-splitters-0.3.8 langsmith-0.4.5 orjson-3.10.18 packaging-24.2 pydantic-2.11.7 pydantic-core-2.33.2 requests-toolbelt-1.0.0 sniffio-1.3.1 tenacity-9.1.2 typing-inspection-0.4.1 zstandard-0.23.0\n"
     ]
    }
   ],
   "source": [
    "!pip install langchain"
   ]
  },
  {
   "cell_type": "code",
   "execution_count": 119,
   "id": "1eb9f173",
   "metadata": {},
   "outputs": [
    {
     "name": "stdout",
     "output_type": "stream",
     "text": [
      "2. Protocol การตรวจทางเวชศาสตร์นิวเคลียร์:\n",
      "\n",
      "2.1) Protocol ของการตรวจ Bone scan:\n",
      "การเตรียมตัว: ไม่ต้องงดน้ำงดอาหาร  ให้ผู้ป่วยเตรียมน้ำเปล่ามาด้วย 1 ขวดใหญ่ ( 1.5 ลิตร ) เพื่อดื่มหลังจากฉีดสารเภสัชรังสี เพื่อให้เห็นภาพที่กระดูกชัดเจนเนื่องจากมีการขับรังสีออกจาก soft tissue ได้มาก  ระหว่างการตรวจไม่ให้ผู้ป่วยออกจากแผนกเนื่องจากมีการฉีดสารเภสัชรังสีไปแล้ว และหากมีญาติมาด้วยต้องไม่ใช่เด็กอายุต่ำกว่า 18 ปี และหญิงตั้งครรภ์เนื่องจากเป็นพื้นที่มีรังสี ผู่ป่วยสามารถทานข้าว ทานยาได้ตามปกติตลอดการตรวจ \n",
      "สารเภสัชรังสี ใช้  Tco4- MDP 20 mCi สำหรับผู้ใหญ่ ยกเว้นหมอสมพรใช้  Tco4- MDP 15 mCi  และหากเป็นเด็กอายุต่ำกว่า 18 ปี ให้คำนวณตามน้ำหนักคนไข้\n",
      "\n",
      "2.1.1) Protocol Bone scan Routine ( ยกเว้นแพทย์ทวีให้ถ่ายเพียง WB bone EVO แล้วทำการ Consult )   \n",
      "1) Pelvis  ( static 5 min )  \n",
      "2) WB Bone (  20 min ) ถ่ายทั้งตัว เตียงไหลไปเรื่อยๆ\n",
      "3)SKULL LAT   ( static 5 min ) ให้คนไข้เงยคางขึ้นขณะถ่ายภาพ\n",
      "+ - ถ่ายเพิ่มเติมหลัง consult แพทย์ ดังนี้\n",
      "4) CHEST RAO LPO  ( static 5 min ) \n",
      "5) CHEST LAO RPO ( static 5 min ) \n",
      "6) KNEE ( static 5 min )  ถ่ายเพิ่มในเคสเด็ก \n",
      "7) SPECT/CT ส่วนที่แพทย์ต้องการดูภาพเพิ่ม  \n",
      "ใส่ ARM support ขณะสแกน Pelvis และ WB bone ส่วนในการสแกน Part อื่นๆ ให้นำ ARM support ออกเพื่อให้ detector ชิดคนไข้ได้มากที่สุดและไม่ชนกับ ARM support\n",
      "\n",
      "2.1.2) Protocol Bone scan 3 phase \n",
      "1st: Vascular phase : FLOW Matrix size 128*128 ,  60 Frames ,Frame time  2 sec/frames, Phase time 120 sec   เป็นการถ่ายแบบไดนามิก คือ  เริ่มสแกนถ่ายพร้อมขณะฉีดยา \n",
      "2nd: Blood pool  : SPOT บริเวณ Lesion ที่ต้องการดูต่ออีก 5 นาที ( ติด Marker ที่ Right knee หรือ Right elbow เพือระบุฝั่ง )\n",
      "3RD: Bone phase สแกนหลังฉีดยา  3 ชั่วโมง  โดยใช้ Protocol Bone Routine  :\n",
      "1) Pelvis  ( static 5 min ) \n",
      "2) WB Bone (  20 min ) ถ่ายทั้งตัว เตียงไหลไปเรื่อยๆ\n",
      "3) SKULL LAT   ( static 5 min )   ให้คนไข้เงยคางขึ้นขณะถ่ายภาพ\n",
      "\n",
      "\n",
      "\n",
      "topic: ['2. Protocol การตรวจทางเวชศาสตร์นิวเคลียร์:\\n']\n",
      "sub_topic: ['2.1) Protocol ของการตรวจ Bone scan:']\n"
     ]
    }
   ],
   "source": [
    "from langchain.text_splitter import RecursiveCharacterTextSplitter\n",
    "import re\n",
    "from langchain.schema import Document\n",
    "\n",
    "# path = '/Users/Aksorn_AI/Desktop/RAG/data/hotlab-v1.txt'\n",
    "path = '/Users/Aksorn_AI/Desktop/RAG/data/protocal-v1.txt'\n",
    "\n",
    "with open(path, 'r', encoding='utf8') as f:\n",
    "    raw_text = f.read()\n",
    "\n",
    "print(raw_text)\n",
    "\n",
    "topic_pattern = r\"^(\\d+\\.\\s.+?:\\s*)$\"\n",
    "sub_topic_pattern = r\"^(\\d+\\.\\d+\\)\\s.+?:\\s*)$\"\n",
    "\n",
    "topics = re.findall(topic_pattern, raw_text, re.MULTILINE)\n",
    "sub_topics = re.findall(sub_topic_pattern, raw_text, re.MULTILINE)\n",
    "\n",
    "print(\"topic:\", topics)\n",
    "print(\"sub_topic:\", sub_topics)\n",
    "\n",
    "# สร้าง splitter\n",
    "text_splitter = RecursiveCharacterTextSplitter(\n",
    "    chunk_size=700,\n",
    "    chunk_overlap=200,\n",
    "    separators=[\"\\n\\n\", \"\\n\", \" \", \"\"]\n",
    ")\n",
    "\n",
    "chunks = text_splitter.split_text(raw_text)\n",
    "\n",
    "documents = [\n",
    "    Document(\n",
    "        page_content=chunk,\n",
    "        metadata={\n",
    "            \"source\": \"data/hotlab-v1.txt\",\n",
    "            \"filename\": \"hotlab-v1.txt\",\n",
    "            \"topic\": topics,\n",
    "            \"sub-topic\": sub_topics,\n",
    "            \"chunk_id\": i\n",
    "        }\n",
    "    )\n",
    "    for i, chunk in enumerate(chunks)\n",
    "]\n",
    "\n",
    "# documents"
   ]
  },
  {
   "cell_type": "code",
   "execution_count": 120,
   "id": "5b6cbbb7",
   "metadata": {},
   "outputs": [
    {
     "data": {
      "text/plain": [
       "[Document(metadata={'source': 'data/hotlab-v1.txt', 'filename': 'hotlab-v1.txt', 'topic': ['2. Protocol การตรวจทางเวชศาสตร์นิวเคลียร์:\\n'], 'sub-topic': ['2.1) Protocol ของการตรวจ Bone scan:'], 'chunk_id': 0}, page_content='2. Protocol การตรวจทางเวชศาสตร์นิวเคลียร์:\\n\\n2.1) Protocol ของการตรวจ Bone scan:\\nการเตรียมตัว: ไม่ต้องงดน้ำงดอาหาร  ให้ผู้ป่วยเตรียมน้ำเปล่ามาด้วย 1 ขวดใหญ่ ( 1.5 ลิตร ) เพื่อดื่มหลังจากฉีดสารเภสัชรังสี เพื่อให้เห็นภาพที่กระดูกชัดเจนเนื่องจากมีการขับรังสีออกจาก soft tissue ได้มาก  ระหว่างการตรวจไม่ให้ผู้ป่วยออกจากแผนกเนื่องจากมีการฉีดสารเภสัชรังสีไปแล้ว และหากมีญาติมาด้วยต้องไม่ใช่เด็กอายุต่ำกว่า 18 ปี และหญิงตั้งครรภ์เนื่องจากเป็นพื้นที่มีรังสี ผู่ป่วยสามารถทานข้าว ทานยาได้ตามปกติตลอดการตรวจ \\nสารเภสัชรังสี ใช้  Tco4- MDP 20 mCi สำหรับผู้ใหญ่ ยกเว้นหมอสมพรใช้  Tco4- MDP 15 mCi  และหากเป็นเด็กอายุต่ำกว่า 18 ปี ให้คำนวณตามน้ำหนักคนไข้'),\n",
       " Document(metadata={'source': 'data/hotlab-v1.txt', 'filename': 'hotlab-v1.txt', 'topic': ['2. Protocol การตรวจทางเวชศาสตร์นิวเคลียร์:\\n'], 'sub-topic': ['2.1) Protocol ของการตรวจ Bone scan:'], 'chunk_id': 1}, page_content='2.1.1) Protocol Bone scan Routine ( ยกเว้นแพทย์ทวีให้ถ่ายเพียง WB bone EVO แล้วทำการ Consult )   \\n1) Pelvis  ( static 5 min )  \\n2) WB Bone (  20 min ) ถ่ายทั้งตัว เตียงไหลไปเรื่อยๆ\\n3)SKULL LAT   ( static 5 min ) ให้คนไข้เงยคางขึ้นขณะถ่ายภาพ\\n+ - ถ่ายเพิ่มเติมหลัง consult แพทย์ ดังนี้\\n4) CHEST RAO LPO  ( static 5 min ) \\n5) CHEST LAO RPO ( static 5 min ) \\n6) KNEE ( static 5 min )  ถ่ายเพิ่มในเคสเด็ก \\n7) SPECT/CT ส่วนที่แพทย์ต้องการดูภาพเพิ่ม  \\nใส่ ARM support ขณะสแกน Pelvis และ WB bone ส่วนในการสแกน Part อื่นๆ ให้นำ ARM support ออกเพื่อให้ detector ชิดคนไข้ได้มากที่สุดและไม่ชนกับ ARM support'),\n",
       " Document(metadata={'source': 'data/hotlab-v1.txt', 'filename': 'hotlab-v1.txt', 'topic': ['2. Protocol การตรวจทางเวชศาสตร์นิวเคลียร์:\\n'], 'sub-topic': ['2.1) Protocol ของการตรวจ Bone scan:'], 'chunk_id': 2}, page_content='2.1.2) Protocol Bone scan 3 phase \\n1st: Vascular phase : FLOW Matrix size 128*128 ,  60 Frames ,Frame time  2 sec/frames, Phase time 120 sec   เป็นการถ่ายแบบไดนามิก คือ  เริ่มสแกนถ่ายพร้อมขณะฉีดยา \\n2nd: Blood pool  : SPOT บริเวณ Lesion ที่ต้องการดูต่ออีก 5 นาที ( ติด Marker ที่ Right knee หรือ Right elbow เพือระบุฝั่ง )\\n3RD: Bone phase สแกนหลังฉีดยา  3 ชั่วโมง  โดยใช้ Protocol Bone Routine  :\\n1) Pelvis  ( static 5 min ) \\n2) WB Bone (  20 min ) ถ่ายทั้งตัว เตียงไหลไปเรื่อยๆ\\n3) SKULL LAT   ( static 5 min )   ให้คนไข้เงยคางขึ้นขณะถ่ายภาพ')]"
      ]
     },
     "execution_count": 120,
     "metadata": {},
     "output_type": "execute_result"
    }
   ],
   "source": [
    "documents"
   ]
  },
  {
   "cell_type": "code",
   "execution_count": 97,
   "id": "1893bbbd",
   "metadata": {},
   "outputs": [
    {
     "data": {
      "text/plain": [
       "[Document(metadata={'source': 'data/hotlab-v1.txt', 'filename': 'hotlab-v1.txt', 'topic': [], 'sub-topic': ['1.2) การตรวจ  BONE:'], 'chunk_id': 0}, page_content='1. การเตรียมสารเภสัชรังสี หรือ Hot lab: \\nทุกเคสการตรวจ ก่อนคำนวนสารเภสัชรังสีต้องดูน้ำหนักของคนไข้ก่อน ซึ่งแต่ละเคสการตรวจสามาถแบ่งตามชื่อการตรวจได้ดังนี้\\n\\n1.1) การตรวจ Parathyroi: \\nใช้สารเภสัชรังสีเทคนีเชียม(Tco4-MIBI) ปริมาณ 20 mCi \\n\\n1.2) การตรวจ  BONE:\\nใช้สารเภสัชรังสีเทคนีเชียม(Tco4-MDP) ปริมาณ 20 mCi สำหรับหมอส่วนใหญ่\\nใช้ปริมาณนี้กับคนไข้ทุกคน  ยกเว้นหมอสมพรที่ใช้สารเภสัชรังสีเทคนีเชียม(Tco4-MDP) ปริมาณ 15 mCi  \\nข้อควรระวัง: ในเคสการตรวจ  BONE สำหรับเด็กอายุต่ำกว่า 18 ปี ต้องเตรียมสารเภสัชรังสีเทคนีเชียม(Tco4-MDP)  โดยการคำนวนปริมาณสารเภสัชรังสีตามน้ำหนักเท่านั้น')]"
      ]
     },
     "execution_count": 97,
     "metadata": {},
     "output_type": "execute_result"
    }
   ],
   "source": [
    "documents"
   ]
  },
  {
   "cell_type": "code",
   "execution_count": null,
   "id": "f1a45673",
   "metadata": {},
   "outputs": [],
   "source": []
  },
  {
   "cell_type": "code",
   "execution_count": 56,
   "id": "6c572055",
   "metadata": {},
   "outputs": [],
   "source": [
    "chunk_texts = [doc.page_content for doc in documents]\n",
    "chunk_metadata = [doc.metadata for doc in documents]"
   ]
  },
  {
   "cell_type": "code",
   "execution_count": 57,
   "id": "f84253c7",
   "metadata": {},
   "outputs": [
    {
     "data": {
      "text/plain": [
       "'1.2.1.2) Protocol Bone scan 3 phase \\n1st: Vascular phase : FLOW Matrix size 128*128 ,  60 Frames ,Frame time  2 sec/frames, Phase time 120 sec   เป็นการถ่ายแบบไดนามิก คือ  เริ่มสแกนถ่ายพร้อมขณะฉีดยา \\n2nd: Blood pool  : SPOT บริเวณ Lesion ที่ต้องการดูต่ออีก 5 นาที ( ติด Marker ที่ Right knee หรือ Right elbow เพือระบุฝั่ง )\\n3RD: Bone phase สแกนหลังฉีดยา  3 ชั่วโมง  โดยใช้ Protocol Bone Routine  :\\n1) Pelvis  ( static 5 min ) \\n2) WB Bone (  20 min ) ถ่ายทั้งตัว เตียงไหลไปเรื่อยๆ\\n3) SKULL LAT   ( static 5 min )   ให้คนไข้เงยคางขึ้นขณะถ่ายภาพ'"
      ]
     },
     "execution_count": 57,
     "metadata": {},
     "output_type": "execute_result"
    }
   ],
   "source": [
    "chunk_texts[-1]"
   ]
  },
  {
   "cell_type": "code",
   "execution_count": 58,
   "id": "89ef7e20",
   "metadata": {},
   "outputs": [],
   "source": [
    "chunk_embeds = embedder.encode(chunk_texts) "
   ]
  },
  {
   "cell_type": "markdown",
   "id": "de6fe3c3",
   "metadata": {},
   "source": [
    "vector db"
   ]
  },
  {
   "cell_type": "markdown",
   "id": "9c85a0f5",
   "metadata": {},
   "source": [
    "การตรวจทางรังสี\n",
    "\n",
    "- Hot lab\n",
    "- Protocal\n",
    "- IODEEN\n",
    "- BMD\n",
    "- ..."
   ]
  },
  {
   "cell_type": "code",
   "execution_count": 62,
   "id": "04ae9f89",
   "metadata": {},
   "outputs": [
    {
     "name": "stderr",
     "output_type": "stream",
     "text": [
      "huggingface/tokenizers: The current process just got forked, after parallelism has already been used. Disabling parallelism to avoid deadlocks...\n",
      "To disable this warning, you can either:\n",
      "\t- Avoid using `tokenizers` before the fork if possible\n",
      "\t- Explicitly set the environment variable TOKENIZERS_PARALLELISM=(true | false)\n"
     ]
    },
    {
     "name": "stdout",
     "output_type": "stream",
     "text": [
      "Collecting faiss-cpu\n",
      "  Using cached faiss_cpu-1.11.0-cp39-cp39-macosx_14_0_arm64.whl.metadata (4.8 kB)\n",
      "Requirement already satisfied: numpy<3.0,>=1.25.0 in /Users/Aksorn_AI/Desktop/RECOMENTATION_SYSTEM/.venv/lib/python3.9/site-packages (from faiss-cpu) (2.0.2)\n",
      "Requirement already satisfied: packaging in /Users/Aksorn_AI/Desktop/RECOMENTATION_SYSTEM/.venv/lib/python3.9/site-packages (from faiss-cpu) (24.2)\n",
      "Using cached faiss_cpu-1.11.0-cp39-cp39-macosx_14_0_arm64.whl (3.3 MB)\n",
      "Installing collected packages: faiss-cpu\n",
      "Successfully installed faiss-cpu-1.11.0\n"
     ]
    }
   ],
   "source": [
    "!pip install faiss-cpu"
   ]
  },
  {
   "cell_type": "code",
   "execution_count": 63,
   "id": "d07e681a",
   "metadata": {},
   "outputs": [],
   "source": [
    "import faiss\n",
    "import numpy as np\n",
    "\n",
    "index = faiss.IndexFlatL2(chunk_embeds.shape[1])\n",
    "index.add(np.array(chunk_embeds))\n",
    "id2meta = {i: m for i, m in enumerate(chunk_metadata)}\n",
    "id2text = {i: t for i, t in enumerate(chunk_texts)}"
   ]
  },
  {
   "cell_type": "code",
   "execution_count": 66,
   "id": "0536515f",
   "metadata": {},
   "outputs": [
    {
     "data": {
      "text/html": [
       "<div>\n",
       "<style scoped>\n",
       "    .dataframe tbody tr th:only-of-type {\n",
       "        vertical-align: middle;\n",
       "    }\n",
       "\n",
       "    .dataframe tbody tr th {\n",
       "        vertical-align: top;\n",
       "    }\n",
       "\n",
       "    .dataframe thead th {\n",
       "        text-align: right;\n",
       "    }\n",
       "</style>\n",
       "<table border=\"1\" class=\"dataframe\">\n",
       "  <thead>\n",
       "    <tr style=\"text-align: right;\">\n",
       "      <th></th>\n",
       "      <th>faiss_id</th>\n",
       "      <th>text</th>\n",
       "      <th>meta</th>\n",
       "    </tr>\n",
       "  </thead>\n",
       "  <tbody>\n",
       "    <tr>\n",
       "      <th>0</th>\n",
       "      <td>0</td>\n",
       "      <td>1.2 การเตรียมสารเภสัชรังสี  หรือ Protocol:\\n\\n...</td>\n",
       "      <td>{'source': 'data/hotlab-v1.txt', 'filename': '...</td>\n",
       "    </tr>\n",
       "    <tr>\n",
       "      <th>1</th>\n",
       "      <td>1</td>\n",
       "      <td>1.2.1.1) Protocol Bone scan Routine ( ยกเว้นแพ...</td>\n",
       "      <td>{'source': 'data/hotlab-v1.txt', 'filename': '...</td>\n",
       "    </tr>\n",
       "    <tr>\n",
       "      <th>2</th>\n",
       "      <td>2</td>\n",
       "      <td>1.2.1.2) Protocol Bone scan 3 phase \\n1st: Vas...</td>\n",
       "      <td>{'source': 'data/hotlab-v1.txt', 'filename': '...</td>\n",
       "    </tr>\n",
       "  </tbody>\n",
       "</table>\n",
       "</div>"
      ],
      "text/plain": [
       "   faiss_id                                               text  \\\n",
       "0         0  1.2 การเตรียมสารเภสัชรังสี  หรือ Protocol:\\n\\n...   \n",
       "1         1  1.2.1.1) Protocol Bone scan Routine ( ยกเว้นแพ...   \n",
       "2         2  1.2.1.2) Protocol Bone scan 3 phase \\n1st: Vas...   \n",
       "\n",
       "                                                meta  \n",
       "0  {'source': 'data/hotlab-v1.txt', 'filename': '...  \n",
       "1  {'source': 'data/hotlab-v1.txt', 'filename': '...  \n",
       "2  {'source': 'data/hotlab-v1.txt', 'filename': '...  "
      ]
     },
     "execution_count": 66,
     "metadata": {},
     "output_type": "execute_result"
    }
   ],
   "source": [
    "import pandas as pd\n",
    "\n",
    "data = []\n",
    "for i in range(index.ntotal):\n",
    "    data.append({\n",
    "        \"faiss_id\": i,\n",
    "        \"text\": id2text[i],\n",
    "        \"meta\": id2meta[i]\n",
    "    })\n",
    "df_faiss = pd.DataFrame(data)\n",
    "df_faiss"
   ]
  },
  {
   "cell_type": "code",
   "execution_count": 68,
   "id": "ae15c8d4",
   "metadata": {},
   "outputs": [],
   "source": [
    "import faiss\n",
    "import pickle\n",
    "\n",
    "# --- Save FAISS index ---\n",
    "faiss.write_index(index, \"/Users/Aksorn_AI/Desktop/RAG/database/index_protocal.index\")\n",
    "\n",
    "# --- Save id2text, id2meta ด้วย pickle ---\n",
    "with open(\"/Users/Aksorn_AI/Desktop/RAG/database/id2text_protocal.pkl\", \"wb\") as f:\n",
    "    pickle.dump(id2text, f)\n",
    "\n",
    "with open(\"/Users/Aksorn_AI/Desktop/RAG/database/id2meta_protocal.pkl\", \"wb\") as f:\n",
    "    pickle.dump(id2meta, f)"
   ]
  },
  {
   "cell_type": "code",
   "execution_count": 69,
   "id": "cd4bf6e6",
   "metadata": {},
   "outputs": [],
   "source": [
    "# LOAD\n",
    "# --- Load FAISS index ---\n",
    "index = faiss.read_index(\"/Users/Aksorn_AI/Desktop/RAG/database/index_protocal.index\")\n",
    "\n",
    "# --- Load id2text, id2meta ---\n",
    "with open(\"/Users/Aksorn_AI/Desktop/RAG/database/id2text_protocal.pkl\", \"rb\") as f:\n",
    "    id2text = pickle.load(f)\n",
    "\n",
    "with open(\"/Users/Aksorn_AI/Desktop/RAG/database/id2meta_protocal.pkl\", \"rb\") as f:\n",
    "    id2meta = pickle.load(f)"
   ]
  },
  {
   "cell_type": "markdown",
   "id": "5cab358d",
   "metadata": {},
   "source": [
    "test retrival"
   ]
  },
  {
   "cell_type": "code",
   "execution_count": 70,
   "id": "dd34ca99",
   "metadata": {},
   "outputs": [
    {
     "name": "stdout",
     "output_type": "stream",
     "text": [
      "เนื้อหา: 1.2.1.2) Protocol Bone scan 3 phase \n",
      "1st: Vascular phase : FLOW Matrix size 128*128 ,  60 Frames ,Frame time  2 sec/frames, Phase time 120 sec   เป็นการถ่ายแบบไดนามิก คือ  เริ่มสแกนถ่ายพร้อมขณะฉีดยา \n",
      "2nd: Blood pool  : SPOT บริเวณ Lesion ที่ต้องการดูต่ออีก 5 นาที ( ติด Marker ที่ Right knee หรือ Right elbow เพือระบุฝั่ง )\n",
      "3RD: Bone phase สแกนหลังฉีดยา  3 ชั่วโมง  โดยใช้ Protocol Bone Routine  :\n",
      "1) Pelvis  ( static 5 min ) \n",
      "2) WB Bone (  20 min ) ถ่ายทั้งตัว เตียงไหลไปเรื่อยๆ\n",
      "3) SKULL LAT   ( static 5 min )   ให้คนไข้เงยคางขึ้นขณะถ่ายภาพ\n",
      "metadata: {'source': 'data/hotlab-v1.txt', 'filename': 'hotlab-v1.txt', 'topic': None, 'sub-topic': 'การเตรียมสารเภสัชรังสี  หรือ Protocol', 'chunk_id': 2}\n",
      "---\n",
      "เนื้อหา: 1.2.1.1) Protocol Bone scan Routine ( ยกเว้นแพทย์ทวีให้ถ่ายเพียง WB bone EVO แล้วทำการ Consult )   \n",
      "1) Pelvis  ( static 5 min )  \n",
      "2) WB Bone (  20 min ) ถ่ายทั้งตัว เตียงไหลไปเรื่อยๆ\n",
      "3)SKULL LAT   ( static 5 min ) ให้คนไข้เงยคางขึ้นขณะถ่ายภาพ\n",
      "+ - ถ่ายเพิ่มเติมหลัง consult แพทย์ ดังนี้\n",
      "4) CHEST RAO LPO  ( static 5 min ) \n",
      "5) CHEST LAO RPO ( static 5 min ) \n",
      "6) KNEE ( static 5 min )  ถ่ายเพิ่มในเคสเด็ก \n",
      "7) SPECT/CT ส่วนที่แพทย์ต้องการดูภาพเพิ่ม  \n",
      "ใส่ ARM support ขณะสแกน Pelvis และ WB bone ส่วนในการสแกน Part อื่นๆ ให้นำ ARM support ออกเพื่อให้ detector ชิดคนไข้ได้มากที่สุดและไม่ชนกับ ARM support\n",
      "metadata: {'source': 'data/hotlab-v1.txt', 'filename': 'hotlab-v1.txt', 'topic': None, 'sub-topic': 'การเตรียมสารเภสัชรังสี  หรือ Protocol', 'chunk_id': 1}\n",
      "---\n",
      "เนื้อหา: 1.2 การเตรียมสารเภสัชรังสี  หรือ Protocol:\n",
      "\n",
      "1.2.1) Protocol ของการตรวจ Bone scan \n",
      "การเตรียมตัว  : ไม่ต้องงดน้ำงดอาหาร  ให้ผู้ป่วยเตรียมน้ำเปล่ามาด้วย 1 ขวดใหญ่ ( 1.5 ลิตร ) เพื่อดื่มหลังจากฉีดสารเภสัชรังสี เพื่อให้เห็นภาพที่กระดูกชัดเจนเนื่องจากมีการขับรังสีออกจาก soft tissue ได้มาก  ระหว่างการตรวจไม่ให้ผู้ป่วยออกจากแผนกเนื่องจากมีการฉีดสารเภสัชรังสีไปแล้ว และหากมีญาติมาด้วยต้องไม่ใช่เด็กอายุต่ำกว่า 18 ปี และหญิงตั้งครรภ์เนื่องจากเป็นพื้นที่มีรังสี ผู่ป่วยสามารถทานข้าว ทานยาได้ตามปกติตลอดการตรวจ \n",
      "สารเภสัชรังสี ใช้  Tco4- MDP 20 mCi สำหรับผู้ใหญ่ ยกเว้นหมอสมพรใช้  Tco4- MDP 15 mCi  และหากเป็นเด็กอายุต่ำกว่า 18 ปี ให้คำนวณตามน้ำหนักคนไข้\n",
      "metadata: {'source': 'data/hotlab-v1.txt', 'filename': 'hotlab-v1.txt', 'topic': None, 'sub-topic': 'การเตรียมสารเภสัชรังสี  หรือ Protocol', 'chunk_id': 0}\n",
      "---\n"
     ]
    }
   ],
   "source": [
    "query = \" Protocol Bone scan 3 phase \"\n",
    "query_embed = embedder.encode([query])\n",
    "D, I = index.search(np.array(query_embed), 3)  \n",
    "\n",
    "for idx in I[0]:\n",
    "    print(\"เนื้อหา:\", id2text[idx])\n",
    "    print(\"metadata:\", id2meta[idx])\n",
    "    print(\"---\")"
   ]
  },
  {
   "cell_type": "markdown",
   "id": "b13e1877",
   "metadata": {},
   "source": [
    "RAG"
   ]
  },
  {
   "cell_type": "code",
   "execution_count": null,
   "id": "eefca53e",
   "metadata": {},
   "outputs": [],
   "source": [
    "import os\n",
    "from dotenv import load_dotenv\n",
    "\n",
    "load_dotenv()\n",
    "openapi_key = os.getenv(\"OPENAI_API_KEY\")"
   ]
  },
  {
   "cell_type": "code",
   "execution_count": null,
   "id": "012cc3db",
   "metadata": {},
   "outputs": [],
   "source": [
    "import numpy as np\n",
    "from langchain.chat_models import ChatOpenAI\n",
    "from langchain_core.prompts import PromptTemplate\n",
    "from langchain_core.runnables import RunnableSequence\n",
    "from langchain_core.output_parsers import JsonOutputParser\n",
    "\n",
    "# สมมติ embedder, index, id2text ถูกเตรียมไว้แล้ว\n",
    "\n",
    "parser = JsonOutputParser()\n",
    "\n",
    "# สร้าง Prompt Template แบบระบุ schema JSON\n",
    "prompt_template = PromptTemplate.from_template(\n",
    "    \"\"\"ข้อมูลอ้างอิง:\n",
    "{context}\n",
    "\n",
    "คำถาม: {question}\n",
    "\n",
    "ตอบโดยตอบจากข้อมูลอ้างอิงเท่านั้น รายละเอียดของข้อมูลต้องครบถ้วน \n",
    "หากเป็นคำถามที่หาคำตอบจากข้อมูลอ้างอิงไม่ได้ให้ตอบว่า \"ไม่มีข้อมูลในส่วนนี้\" \n",
    "และตอบในรูปแบบ JSON ตามนี้:\n",
    "{{\n",
    "  \"answer\": \"...คำตอบ...\"\n",
    "}}\"\"\"\n",
    ")\n",
    "\n",
    "# เตรียม LLM จาก OpenAI\n",
    "llm = ChatOpenAI(\n",
    "    model_name=\"gpt-4o-mini\",\n",
    "    temperature=0.0,\n",
    "    max_tokens=512,\n",
    "    openai_api_key=openapi_key\n",
    ")\n",
    "\n",
    "# สร้าง chain\n",
    "chain = prompt_template | llm | parser\n",
    "\n",
    "def rag_pipeline(user_query: str, embedder, index, id2text, top_k=3):\n",
    "    # 1. Embed & Search\n",
    "    query_embed = embedder.encode([user_query])\n",
    "    D, I = index.search(np.array(query_embed), top_k)\n",
    "    top_chunks = [id2text[i] for i in I[0]]\n",
    "    context = \"\\n\\n\".join(top_chunks)\n",
    "\n",
    "    # 2. Generate ผ่าน LangChain\n",
    "    inputs = {\"context\": context, \"question\": user_query}\n",
    "    result = chain.invoke(inputs)   # << result เป็น dict แล้ว\n",
    "\n",
    "    # 3. Return answer\n",
    "    return result[\"answer\"], context, top_chunks\n"
   ]
  },
  {
   "cell_type": "code",
   "execution_count": null,
   "id": "790462f6",
   "metadata": {},
   "outputs": [
    {
     "name": "stdout",
     "output_type": "stream",
     "text": [
      "Answer: หมอสมพรตรวจ BONE โดยใช้สารเภสัชรังสีเทคนีเชียม(Tco4-MDP) ปริมาณ 15 mCi\n"
     ]
    }
   ],
   "source": [
    "def qa_rag(user_query):\n",
    "    answer, context, used_chunks = rag_pipeline(\n",
    "        user_query=user_query,\n",
    "        embedder=embedder,\n",
    "        index=index,\n",
    "        id2text=id2text,\n",
    "        top_k=2\n",
    "    )\n",
    "    \n",
    "    print(\"Answer:\", answer)\n",
    "    return answer, context, used_chunks\n",
    "\n",
    "user_query = \"หมอสมพรตรวจ bone ยังไง\""
   ]
  },
  {
   "cell_type": "code",
   "execution_count": 89,
   "id": "e5b1f277",
   "metadata": {},
   "outputs": [],
   "source": [
    "def qa_rag(user_query):\n",
    "    answer, context, used_chunks = rag_pipeline(\n",
    "        user_query=user_query,\n",
    "        embedder=embedder,\n",
    "        index=index,\n",
    "        id2text=id2text,\n",
    "        top_k=2\n",
    "    )\n",
    "    return answer, context, used_chunks"
   ]
  },
  {
   "cell_type": "code",
   "execution_count": 84,
   "id": "a2e992dc",
   "metadata": {},
   "outputs": [
    {
     "name": "stdout",
     "output_type": "stream",
     "text": [
      "Answer: การตรวจ BONE ใช้สารเภสัชรังสีเทคนีเชียม (Tco4-MDP) โดยทั่วไปใช้ปริมาณ 20 mCi สำหรับผู้ป่วยทุกคน ยกเว้นหมอสมพรที่ใช้ปริมาณ 15 mCi สำหรับการตรวจในเด็กอายุต่ำกว่า 18 ปี จะต้องคำนวณปริมาณสารเภสัชรังสีตามน้ำหนักของเด็ก\n"
     ]
    }
   ],
   "source": [
    "user_query = \"ตรวจ bone ยังไง\"\n",
    "answer, context, used_chunks = qa_rag(user_query)\n",
    "print(\"Answer:\", answer)"
   ]
  },
  {
   "cell_type": "code",
   "execution_count": 85,
   "id": "b60073ce",
   "metadata": {},
   "outputs": [
    {
     "name": "stdout",
     "output_type": "stream",
     "text": [
      "Answer: การตรวจ Parathyroid ใช้สารเภสัชรังสีเทคนีเชียม (Tco4-MIBI) ปริมาณ 20 mCi\n"
     ]
    }
   ],
   "source": [
    "user_query = \"การตรวจ Parathyroid\"\n",
    "answer, context, used_chunks = qa_rag(user_query)\n",
    "print(\"Answer:\", answer)"
   ]
  },
  {
   "cell_type": "code",
   "execution_count": 86,
   "id": "5ca266d8",
   "metadata": {},
   "outputs": [
    {
     "name": "stdout",
     "output_type": "stream",
     "text": [
      "Answer: ทุกเคสการตรวจใน hot lab ต้องดูน้ำหนักของคนไข้ก่อนคำนวณสารเภสัชรังสี โดยการตรวจ Parathyroid ใช้สารเภสัชรังสีเทคนีเชียม (Tco4-MIBI) ปริมาณ 20 mCi และการตรวจ BONE ใช้สารเภสัชรังสีเทคนีเชียม (Tco4-MDP) ปริมาณ 20 mCi สำหรับหมอส่วนใหญ่.\n"
     ]
    }
   ],
   "source": [
    "user_query = \"hotlab ทุกเคสการตรวจ?\"\n",
    "answer, context, used_chunks = qa_rag(user_query)\n",
    "print(\"Answer:\", answer)"
   ]
  },
  {
   "cell_type": "code",
   "execution_count": 92,
   "id": "8fa1a31e",
   "metadata": {},
   "outputs": [
    {
     "name": "stdout",
     "output_type": "stream",
     "text": [
      "Answer: ใน hot lab ทุกเคสการตรวจ ก่อนคำนวณสารเภสัชรังสีต้องดูน้ำหนักของคนไข้ก่อน โดยสามารถแบ่งตามชื่อการตรวจได้ดังนี้: การตรวจ Parathyroid ใช้สารเภสัชรังสีเทคนีเชียม (Tco4-MIBI) ปริมาณ 20 mCi และการตรวจ BONE ใช้สารเภสัชรังสีเทคนีเชียม (Tco4-MDP) ปริมาณ 20 mCi สำหรับหมอส่วนใหญ่.\n"
     ]
    }
   ],
   "source": [
    "user_query = \"hot lab ทุกเคสการตรวจ?\"\n",
    "answer, context, used_chunks = qa_rag(user_query)\n",
    "print(\"Answer:\", answer)"
   ]
  },
  {
   "cell_type": "code",
   "execution_count": 93,
   "id": "ceae0791",
   "metadata": {},
   "outputs": [
    {
     "name": "stdout",
     "output_type": "stream",
     "text": [
      "Answer: Hot lab ทุกเคสการตรวจต้องดูน้ำหนักของคนไข้ก่อนคำนวนสารเภสัชรังสี โดยการตรวจ Parathyroid ใช้สารเภสัชรังสีเทคนีเชียม (Tco4-MIBI) ปริมาณ 20 mCi และการตรวจ BONE ใช้สารเภสัชรังสีเทคนีเชียม (Tco4-MDP) ปริมาณ 20 mCi สำหรับหมอส่วนใหญ่.\n"
     ]
    }
   ],
   "source": [
    "user_query = \"Hot lab ทุกเคสการตรวจ?\"\n",
    "answer, context, used_chunks = qa_rag(user_query)\n",
    "print(\"Answer:\", answer)"
   ]
  },
  {
   "cell_type": "code",
   "execution_count": 91,
   "id": "a694caec",
   "metadata": {},
   "outputs": [
    {
     "name": "stdout",
     "output_type": "stream",
     "text": [
      "Answer: การเตรียมสารเภสัชรังสีในทุกเคสการตรวจต้องดูน้ำหนักของคนไข้ก่อน โดยสามารถแบ่งตามชื่อการตรวจได้ดังนี้: สำหรับการตรวจ Parathyroid จะใช้สารเภสัชรังสีเทคนีเชียม (Tco4-MIBI) ปริมาณ 20 mCi และสำหรับการตรวจ BONE จะใช้สารเภสัชรังสีเทคนีเชียม (Tco4-MDP) ปริมาณ 20 mCi สำหรับหมอส่วนใหญ่ ยกเว้นหมอสมพรที่ใช้ปริมาณ 15 mCi สำหรับสารเภสัชรังสีเทคนีเชียม (Tco4-MDP) ในการตรวจ BONE นอกจากนี้ ในเคสการตรวจ BONE สำหรับเด็กอายุต่ำกว่า 18 ปี ต้องเตรียมสารเภสัชรังสีเทคนีเชียม (Tco4-MDP) โดยการคำนวนปริมาณสารเภสัชรังสีตามน้ำหนักเท่านั้น.\n"
     ]
    }
   ],
   "source": [
    "user_query = \"การเตรียมสารเภสัชรังสี ทุกเคสการตรวจ?\"\n",
    "answer, context, used_chunks = qa_rag(user_query)\n",
    "print(\"Answer:\", answer)"
   ]
  },
  {
   "cell_type": "code",
   "execution_count": 100,
   "id": "a97082ca",
   "metadata": {},
   "outputs": [
    {
     "name": "stdout",
     "output_type": "stream",
     "text": [
      "Answer: การตรวจ BONE ใช้สารเภสัชรังสีเทคนีเชียม(Tco4-MDP) ปริมาณ 20 mCi สำหรับหมอส่วนใหญ่ แต่หมอสมพรใช้ปริมาณ 15 mCi ซึ่งไม่ได้ระบุว่าหมอสุวันนีใช้ปริมาณใด ดังนั้นจึงถือว่าหมอสุวันนีใช้ปริมาณ 20 mCi ตามที่หมอส่วนใหญ่ใช้\n"
     ]
    }
   ],
   "source": [
    "user_query = \"การตรวจ Bone ใช้สารเภสัชรังสีเท่าไร หมอสุวันนี\"\n",
    "answer, context, used_chunks = qa_rag(user_query)\n",
    "print(\"Answer:\", answer)"
   ]
  },
  {
   "cell_type": "code",
   "execution_count": 101,
   "id": "8faa7529",
   "metadata": {},
   "outputs": [
    {
     "name": "stdout",
     "output_type": "stream",
     "text": [
      "Answer: การตรวจ BONE หมอสุวันนีใช้สารเภสัชรังสีเทคนีเชียม(Tco4-MDP) ปริมาณ 20 mCi ตามที่หมอส่วนใหญ่ใช้\n"
     ]
    }
   ],
   "source": [
    "user_query = \"bone scan หมอสุวันนีใช้ยา?\"\n",
    "answer, context, used_chunks = qa_rag(user_query)\n",
    "print(\"Answer:\", answer)"
   ]
  },
  {
   "cell_type": "code",
   "execution_count": null,
   "id": "36639882",
   "metadata": {},
   "outputs": [],
   "source": []
  }
 ],
 "metadata": {
  "kernelspec": {
   "display_name": ".venv",
   "language": "python",
   "name": "python3"
  },
  "language_info": {
   "codemirror_mode": {
    "name": "ipython",
    "version": 3
   },
   "file_extension": ".py",
   "mimetype": "text/x-python",
   "name": "python",
   "nbconvert_exporter": "python",
   "pygments_lexer": "ipython3",
   "version": "3.9.6"
  }
 },
 "nbformat": 4,
 "nbformat_minor": 5
}
